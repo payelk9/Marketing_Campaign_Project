{
 "cells": [
  {
   "cell_type": "markdown",
   "id": "0dcb9351",
   "metadata": {},
   "source": [
    "# Marketing Campaign- Web Purchase Prediction Case Study\n",
    "In this case study, the task is to create a machine learning model which can predict the web purchases based on customer pattern and marketing campaign. And also to find factors which are significantly related to the number of web purchases."
   ]
  },
  {
   "cell_type": "markdown",
   "id": "8ebcab02",
   "metadata": {},
   "source": [
    "## 1. Reading the data into python\n",
    "This is one of the most important steps in machine learning! You must understand the data and the domain well before trying to apply any machine learning algorithm.\n",
    "\n",
    "The data has one file \"marketing_data.csv\". This file contains 2240 marketing data."
   ]
  },
  {
   "cell_type": "markdown",
   "id": "e5e9c102",
   "metadata": {},
   "source": [
    "### Data desciption\n",
    "The business meaning of each column in the data is as below\n",
    "\n",
    "* <b>ID</b>:\tCustomer's unique identifier\n",
    "* <b>Year_Birth</b>:\tCustomer's birth year\n",
    "* <b>Education</b>:\tCustomer's education level\n",
    "* <b>Marital_Status</b>:\tCustomer's marital status\n",
    "* <b>Income</b></b>: \tCustomer's yearly household income\n",
    "* <b>Kidhome</b>:\tNumber of children in customer's household\n",
    "* <b>Teenhome</b>:\tNumber of teenagers in customer's household\n",
    "* <b>Dt_Customer</b>:\tDate of customer's enrollment with the company\n",
    "* <b>Recency</b>:\tNumber of days since customer's last purchase\n",
    "* <b>MntWines</b>:\tAmount spent on wine in the last 2 years\n",
    "* <b>MntFruits</b>:\tAmount spent on fruits in the last 2 years\n",
    "* <b>MntMeatProducts</b>:\tAmount spent on meat in the last 2 years\n",
    "* <b>MntFishProducts</b>:\tAmount spent on fish in the last 2 years\n",
    "* <b>MntSweetProducts</b>:\tAmount spent on sweets in the last 2 years\n",
    "* <b>MntGoldProds</b>:\tAmount spent on gold in the last 2 years\n",
    "* <b>NumDealsPurchases</b>:\tNumber of purchases made with a discount\n",
    "* <b>NumWebPurchases</b>:\tNumber of purchases made through the company's web site\n",
    "* <b>NumCatalogPurchases</b>:\tNumber of purchases made using a catalogue\n",
    "* <b>NumStorePurchases</b>:\tNumber of purchases made directly in stores\n",
    "* <b>NumWebVisitsMonth</b>:\tNumber of visits to company's web site in the last month\n",
    "* <b>AcceptedCmp3</b>:\t1 if customer accepted the offer in the 3rd campaign, 0 otherwise\n",
    "* <b>AcceptedCmp4</b>:\t1 if customer accepted the offer in the 4th campaign, 0 otherwise\n",
    "* <b>AcceptedCmp5</b>:\t1 if customer accepted the offer in the 5th campaign, 0 otherwise\n",
    "* <b>AcceptedCmp1</b>:\t1 if customer accepted the offer in the 1st campaign, 0 otherwise\n",
    "* <b>AcceptedCmp2</b>:\t1 if customer accepted the offer in the 2nd campaign, 0 otherwise\n",
    "* <b>Response</b>:\t1 if customer accepted the offer in the last campaign, 0 otherwise\n",
    "* <b>Complain</b>:\t1 if customer complained in the last 2 years, 0 otherwise\n",
    "* <b>Country</b>:\tCustomer's location\n"
   ]
  },
  {
   "cell_type": "code",
   "execution_count": 1,
   "id": "d45e6700",
   "metadata": {},
   "outputs": [],
   "source": [
    "# Supressing the warning messages\n",
    "import warnings\n",
    "warnings.filterwarnings('ignore')"
   ]
  },
  {
   "cell_type": "code",
   "execution_count": 2,
   "id": "436d030a",
   "metadata": {},
   "outputs": [
    {
     "name": "stdout",
     "output_type": "stream",
     "text": [
      "Shape before deleting duplicate values: (2240, 28)\n",
      "Shape After deleting duplicate values: (2240, 28)\n"
     ]
    },
    {
     "data": {
      "text/html": [
       "<div>\n",
       "<style scoped>\n",
       "    .dataframe tbody tr th:only-of-type {\n",
       "        vertical-align: middle;\n",
       "    }\n",
       "\n",
       "    .dataframe tbody tr th {\n",
       "        vertical-align: top;\n",
       "    }\n",
       "\n",
       "    .dataframe thead th {\n",
       "        text-align: right;\n",
       "    }\n",
       "</style>\n",
       "<table border=\"1\" class=\"dataframe\">\n",
       "  <thead>\n",
       "    <tr style=\"text-align: right;\">\n",
       "      <th></th>\n",
       "      <th>ï»¿ID</th>\n",
       "      <th>Year_Birth</th>\n",
       "      <th>Education</th>\n",
       "      <th>Marital_Status</th>\n",
       "      <th>Income</th>\n",
       "      <th>Kidhome</th>\n",
       "      <th>Teenhome</th>\n",
       "      <th>Dt_Customer</th>\n",
       "      <th>Recency</th>\n",
       "      <th>MntWines</th>\n",
       "      <th>...</th>\n",
       "      <th>NumStorePurchases</th>\n",
       "      <th>NumWebVisitsMonth</th>\n",
       "      <th>AcceptedCmp3</th>\n",
       "      <th>AcceptedCmp4</th>\n",
       "      <th>AcceptedCmp5</th>\n",
       "      <th>AcceptedCmp1</th>\n",
       "      <th>AcceptedCmp2</th>\n",
       "      <th>Response</th>\n",
       "      <th>Complain</th>\n",
       "      <th>Country</th>\n",
       "    </tr>\n",
       "  </thead>\n",
       "  <tbody>\n",
       "    <tr>\n",
       "      <th>0</th>\n",
       "      <td>1826</td>\n",
       "      <td>1970</td>\n",
       "      <td>Graduation</td>\n",
       "      <td>Divorced</td>\n",
       "      <td>84835.0</td>\n",
       "      <td>0</td>\n",
       "      <td>0</td>\n",
       "      <td>16-06-2014</td>\n",
       "      <td>0</td>\n",
       "      <td>189</td>\n",
       "      <td>...</td>\n",
       "      <td>6</td>\n",
       "      <td>1</td>\n",
       "      <td>0</td>\n",
       "      <td>0</td>\n",
       "      <td>0</td>\n",
       "      <td>0</td>\n",
       "      <td>0</td>\n",
       "      <td>1</td>\n",
       "      <td>0</td>\n",
       "      <td>Spain</td>\n",
       "    </tr>\n",
       "    <tr>\n",
       "      <th>1</th>\n",
       "      <td>1</td>\n",
       "      <td>1961</td>\n",
       "      <td>Graduation</td>\n",
       "      <td>Single</td>\n",
       "      <td>57091.0</td>\n",
       "      <td>0</td>\n",
       "      <td>0</td>\n",
       "      <td>15-06-2014</td>\n",
       "      <td>0</td>\n",
       "      <td>464</td>\n",
       "      <td>...</td>\n",
       "      <td>7</td>\n",
       "      <td>5</td>\n",
       "      <td>0</td>\n",
       "      <td>0</td>\n",
       "      <td>0</td>\n",
       "      <td>0</td>\n",
       "      <td>1</td>\n",
       "      <td>1</td>\n",
       "      <td>0</td>\n",
       "      <td>Canada</td>\n",
       "    </tr>\n",
       "    <tr>\n",
       "      <th>2</th>\n",
       "      <td>10476</td>\n",
       "      <td>1958</td>\n",
       "      <td>Graduation</td>\n",
       "      <td>Married</td>\n",
       "      <td>67267.0</td>\n",
       "      <td>0</td>\n",
       "      <td>1</td>\n",
       "      <td>13-05-2014</td>\n",
       "      <td>0</td>\n",
       "      <td>134</td>\n",
       "      <td>...</td>\n",
       "      <td>5</td>\n",
       "      <td>2</td>\n",
       "      <td>0</td>\n",
       "      <td>0</td>\n",
       "      <td>0</td>\n",
       "      <td>0</td>\n",
       "      <td>0</td>\n",
       "      <td>0</td>\n",
       "      <td>0</td>\n",
       "      <td>USA</td>\n",
       "    </tr>\n",
       "    <tr>\n",
       "      <th>3</th>\n",
       "      <td>1386</td>\n",
       "      <td>1967</td>\n",
       "      <td>Graduation</td>\n",
       "      <td>Together</td>\n",
       "      <td>32474.0</td>\n",
       "      <td>1</td>\n",
       "      <td>1</td>\n",
       "      <td>11-05-2014</td>\n",
       "      <td>0</td>\n",
       "      <td>10</td>\n",
       "      <td>...</td>\n",
       "      <td>2</td>\n",
       "      <td>7</td>\n",
       "      <td>0</td>\n",
       "      <td>0</td>\n",
       "      <td>0</td>\n",
       "      <td>0</td>\n",
       "      <td>0</td>\n",
       "      <td>0</td>\n",
       "      <td>0</td>\n",
       "      <td>Australia</td>\n",
       "    </tr>\n",
       "    <tr>\n",
       "      <th>4</th>\n",
       "      <td>5371</td>\n",
       "      <td>1989</td>\n",
       "      <td>Graduation</td>\n",
       "      <td>Single</td>\n",
       "      <td>21474.0</td>\n",
       "      <td>1</td>\n",
       "      <td>0</td>\n",
       "      <td>08-04-2014</td>\n",
       "      <td>0</td>\n",
       "      <td>6</td>\n",
       "      <td>...</td>\n",
       "      <td>2</td>\n",
       "      <td>7</td>\n",
       "      <td>1</td>\n",
       "      <td>0</td>\n",
       "      <td>0</td>\n",
       "      <td>0</td>\n",
       "      <td>0</td>\n",
       "      <td>1</td>\n",
       "      <td>0</td>\n",
       "      <td>Spain</td>\n",
       "    </tr>\n",
       "    <tr>\n",
       "      <th>5</th>\n",
       "      <td>7348</td>\n",
       "      <td>1958</td>\n",
       "      <td>PhD</td>\n",
       "      <td>Single</td>\n",
       "      <td>71691.0</td>\n",
       "      <td>0</td>\n",
       "      <td>0</td>\n",
       "      <td>17-03-2014</td>\n",
       "      <td>0</td>\n",
       "      <td>336</td>\n",
       "      <td>...</td>\n",
       "      <td>5</td>\n",
       "      <td>2</td>\n",
       "      <td>0</td>\n",
       "      <td>0</td>\n",
       "      <td>0</td>\n",
       "      <td>0</td>\n",
       "      <td>0</td>\n",
       "      <td>1</td>\n",
       "      <td>0</td>\n",
       "      <td>Spain</td>\n",
       "    </tr>\n",
       "    <tr>\n",
       "      <th>6</th>\n",
       "      <td>4073</td>\n",
       "      <td>1954</td>\n",
       "      <td>2n Cycle</td>\n",
       "      <td>Married</td>\n",
       "      <td>63564.0</td>\n",
       "      <td>0</td>\n",
       "      <td>0</td>\n",
       "      <td>29-01-2014</td>\n",
       "      <td>0</td>\n",
       "      <td>769</td>\n",
       "      <td>...</td>\n",
       "      <td>7</td>\n",
       "      <td>6</td>\n",
       "      <td>1</td>\n",
       "      <td>0</td>\n",
       "      <td>0</td>\n",
       "      <td>0</td>\n",
       "      <td>0</td>\n",
       "      <td>1</td>\n",
       "      <td>0</td>\n",
       "      <td>Germany</td>\n",
       "    </tr>\n",
       "    <tr>\n",
       "      <th>7</th>\n",
       "      <td>1991</td>\n",
       "      <td>1967</td>\n",
       "      <td>Graduation</td>\n",
       "      <td>Together</td>\n",
       "      <td>44931.0</td>\n",
       "      <td>0</td>\n",
       "      <td>1</td>\n",
       "      <td>18-01-2014</td>\n",
       "      <td>0</td>\n",
       "      <td>78</td>\n",
       "      <td>...</td>\n",
       "      <td>3</td>\n",
       "      <td>5</td>\n",
       "      <td>0</td>\n",
       "      <td>0</td>\n",
       "      <td>0</td>\n",
       "      <td>0</td>\n",
       "      <td>0</td>\n",
       "      <td>0</td>\n",
       "      <td>0</td>\n",
       "      <td>Spain</td>\n",
       "    </tr>\n",
       "    <tr>\n",
       "      <th>8</th>\n",
       "      <td>4047</td>\n",
       "      <td>1954</td>\n",
       "      <td>PhD</td>\n",
       "      <td>Married</td>\n",
       "      <td>65324.0</td>\n",
       "      <td>0</td>\n",
       "      <td>1</td>\n",
       "      <td>11-01-2014</td>\n",
       "      <td>0</td>\n",
       "      <td>384</td>\n",
       "      <td>...</td>\n",
       "      <td>9</td>\n",
       "      <td>4</td>\n",
       "      <td>0</td>\n",
       "      <td>0</td>\n",
       "      <td>0</td>\n",
       "      <td>0</td>\n",
       "      <td>0</td>\n",
       "      <td>0</td>\n",
       "      <td>0</td>\n",
       "      <td>USA</td>\n",
       "    </tr>\n",
       "    <tr>\n",
       "      <th>9</th>\n",
       "      <td>9477</td>\n",
       "      <td>1954</td>\n",
       "      <td>PhD</td>\n",
       "      <td>Married</td>\n",
       "      <td>65324.0</td>\n",
       "      <td>0</td>\n",
       "      <td>1</td>\n",
       "      <td>11-01-2014</td>\n",
       "      <td>0</td>\n",
       "      <td>384</td>\n",
       "      <td>...</td>\n",
       "      <td>9</td>\n",
       "      <td>4</td>\n",
       "      <td>0</td>\n",
       "      <td>0</td>\n",
       "      <td>0</td>\n",
       "      <td>0</td>\n",
       "      <td>0</td>\n",
       "      <td>0</td>\n",
       "      <td>0</td>\n",
       "      <td>India</td>\n",
       "    </tr>\n",
       "  </tbody>\n",
       "</table>\n",
       "<p>10 rows × 28 columns</p>\n",
       "</div>"
      ],
      "text/plain": [
       "   ï»¿ID  Year_Birth   Education Marital_Status   Income  Kidhome  Teenhome  \\\n",
       "0   1826        1970  Graduation       Divorced  84835.0        0         0   \n",
       "1      1        1961  Graduation         Single  57091.0        0         0   \n",
       "2  10476        1958  Graduation        Married  67267.0        0         1   \n",
       "3   1386        1967  Graduation       Together  32474.0        1         1   \n",
       "4   5371        1989  Graduation         Single  21474.0        1         0   \n",
       "5   7348        1958         PhD         Single  71691.0        0         0   \n",
       "6   4073        1954    2n Cycle        Married  63564.0        0         0   \n",
       "7   1991        1967  Graduation       Together  44931.0        0         1   \n",
       "8   4047        1954         PhD        Married  65324.0        0         1   \n",
       "9   9477        1954         PhD        Married  65324.0        0         1   \n",
       "\n",
       "  Dt_Customer  Recency  MntWines  ...  NumStorePurchases  NumWebVisitsMonth  \\\n",
       "0  16-06-2014        0       189  ...                  6                  1   \n",
       "1  15-06-2014        0       464  ...                  7                  5   \n",
       "2  13-05-2014        0       134  ...                  5                  2   \n",
       "3  11-05-2014        0        10  ...                  2                  7   \n",
       "4  08-04-2014        0         6  ...                  2                  7   \n",
       "5  17-03-2014        0       336  ...                  5                  2   \n",
       "6  29-01-2014        0       769  ...                  7                  6   \n",
       "7  18-01-2014        0        78  ...                  3                  5   \n",
       "8  11-01-2014        0       384  ...                  9                  4   \n",
       "9  11-01-2014        0       384  ...                  9                  4   \n",
       "\n",
       "   AcceptedCmp3  AcceptedCmp4  AcceptedCmp5  AcceptedCmp1  AcceptedCmp2  \\\n",
       "0             0             0             0             0             0   \n",
       "1             0             0             0             0             1   \n",
       "2             0             0             0             0             0   \n",
       "3             0             0             0             0             0   \n",
       "4             1             0             0             0             0   \n",
       "5             0             0             0             0             0   \n",
       "6             1             0             0             0             0   \n",
       "7             0             0             0             0             0   \n",
       "8             0             0             0             0             0   \n",
       "9             0             0             0             0             0   \n",
       "\n",
       "   Response  Complain    Country  \n",
       "0         1         0      Spain  \n",
       "1         1         0     Canada  \n",
       "2         0         0        USA  \n",
       "3         0         0  Australia  \n",
       "4         1         0      Spain  \n",
       "5         1         0      Spain  \n",
       "6         1         0    Germany  \n",
       "7         0         0      Spain  \n",
       "8         0         0        USA  \n",
       "9         0         0      India  \n",
       "\n",
       "[10 rows x 28 columns]"
      ]
     },
     "execution_count": 2,
     "metadata": {},
     "output_type": "execute_result"
    }
   ],
   "source": [
    "# Reading the dataset\n",
    "import pandas as pd\n",
    "import numpy as np\n",
    "MarketingData=pd.read_csv('marketingdatacsv.csv', encoding='latin')\n",
    "print('Shape before deleting duplicate values:', MarketingData.shape)\n",
    "\n",
    "# Removing duplicate rows if any\n",
    "MarketingData=MarketingData.drop_duplicates()\n",
    "print('Shape After deleting duplicate values:', MarketingData.shape)\n",
    "\n",
    "# Printing sample data\n",
    "# Start observing the Quantitative/Categorical/Qualitative variables\n",
    "MarketingData.head(10)"
   ]
  },
  {
   "cell_type": "code",
   "execution_count": 3,
   "id": "2703a98f",
   "metadata": {},
   "outputs": [
    {
     "data": {
      "text/plain": [
       "'ï»¿ID'"
      ]
     },
     "execution_count": 3,
     "metadata": {},
     "output_type": "execute_result"
    }
   ],
   "source": [
    "MarketingData.columns[0]"
   ]
  },
  {
   "cell_type": "code",
   "execution_count": 4,
   "id": "ce2ae3c8",
   "metadata": {},
   "outputs": [],
   "source": [
    "#changing 1st column name\n",
    "MarketingData.rename(columns={MarketingData.columns[0]: 'ID'}, inplace=True)"
   ]
  },
  {
   "cell_type": "code",
   "execution_count": 5,
   "id": "0114098c",
   "metadata": {},
   "outputs": [
    {
     "data": {
      "text/plain": [
       "Index(['ID', 'Year_Birth', 'Education', 'Marital_Status', 'Income', 'Kidhome',\n",
       "       'Teenhome', 'Dt_Customer', 'Recency', 'MntWines', 'MntFruits',\n",
       "       'MntMeatProducts', 'MntFishProducts', 'MntSweetProducts',\n",
       "       'MntGoldProds', 'NumDealsPurchases', 'NumWebPurchases',\n",
       "       'NumCatalogPurchases', 'NumStorePurchases', 'NumWebVisitsMonth',\n",
       "       'AcceptedCmp3', 'AcceptedCmp4', 'AcceptedCmp5', 'AcceptedCmp1',\n",
       "       'AcceptedCmp2', 'Response', 'Complain', 'Country'],\n",
       "      dtype='object')"
      ]
     },
     "execution_count": 5,
     "metadata": {},
     "output_type": "execute_result"
    }
   ],
   "source": [
    "MarketingData.columns"
   ]
  },
  {
   "cell_type": "markdown",
   "id": "2daa4591",
   "metadata": {},
   "source": [
    "## 2. Defining the problem statement:"
   ]
  },
  {
   "cell_type": "markdown",
   "id": "0d26311a",
   "metadata": {},
   "source": [
    "#### Create a ML model which predict the number of web purchases based on customer profiles, product preferences, campaign successes/failures, and channel performance\n",
    "\n",
    "* Target Variable: NumWebPurchases\n",
    "* Predictors: Education, Income, MntMeatProducts etc."
   ]
  },
  {
   "cell_type": "markdown",
   "id": "6ed36740",
   "metadata": {},
   "source": [
    "## 3. Determining the type of Machine Learning\n",
    "Based on the problem statement you can understand that we need to create a supervised ML classification model, as the target variable is Categorical."
   ]
  },
  {
   "cell_type": "markdown",
   "id": "6fbc360b",
   "metadata": {},
   "source": [
    "## 4. Looking at the distribution of Target variable"
   ]
  },
  {
   "cell_type": "code",
   "execution_count": 6,
   "id": "0ec456e9",
   "metadata": {},
   "outputs": [
    {
     "data": {
      "text/plain": [
       "<AxesSubplot:>"
      ]
     },
     "execution_count": 6,
     "metadata": {},
     "output_type": "execute_result"
    },
    {
     "data": {
      "image/png": "[encoded data removed]",
      "text/plain": [
       "<Figure size 432x288 with 1 Axes>"
      ]
     },
     "metadata": {
      "needs_background": "light"
     },
     "output_type": "display_data"
    }
   ],
   "source": [
    "%matplotlib inline\n",
    "# Creating Bar chart as the Target variable is Continuous\n",
    "MarketingData['NumWebPurchases'].hist()"
   ]
  },
  {
   "cell_type": "code",
   "execution_count": 7,
   "id": "6f7de9b2",
   "metadata": {},
   "outputs": [
    {
     "data": {
      "text/plain": [
       "2057    11\n",
       "41      11\n",
       "1741    11\n",
       "2031    11\n",
       "2209    11\n",
       "        ..\n",
       "161      0\n",
       "1763     0\n",
       "386      0\n",
       "2156     0\n",
       "297      0\n",
       "Name: NumWebPurchases, Length: 2236, dtype: int64"
      ]
     },
     "execution_count": 7,
     "metadata": {},
     "output_type": "execute_result"
    }
   ],
   "source": [
    "MarketingData['NumWebPurchases'][MarketingData['NumWebPurchases']<20].sort_values(ascending=False)"
   ]
  },
  {
   "cell_type": "code",
   "execution_count": 8,
   "id": "713adf3c",
   "metadata": {},
   "outputs": [],
   "source": [
    "# Replacing outliers with nearest possibe value\n",
    "MarketingData['NumWebPurchases'][MarketingData['NumWebPurchases']>11] =11"
   ]
  },
  {
   "cell_type": "code",
   "execution_count": 9,
   "id": "f58f3ae7",
   "metadata": {
    "scrolled": false
   },
   "outputs": [
    {
     "data": {
      "text/plain": [
       "<AxesSubplot:>"
      ]
     },
     "execution_count": 9,
     "metadata": {},
     "output_type": "execute_result"
    },
    {
     "data": {
      "image/png": "[encoded data removed]",
      "text/plain": [
       "<Figure size 432x288 with 1 Axes>"
      ]
     },
     "metadata": {
      "needs_background": "light"
     },
     "output_type": "display_data"
    }
   ],
   "source": [
    "%matplotlib inline\n",
    "# Creating Bar chart as the Target variable is Continuous\n",
    "MarketingData['NumWebPurchases'].hist()"
   ]
  },
  {
   "cell_type": "code",
   "execution_count": 10,
   "id": "bf8c4dd3",
   "metadata": {},
   "outputs": [
    {
     "data": {
      "text/plain": [
       "4.0"
      ]
     },
     "execution_count": 10,
     "metadata": {},
     "output_type": "execute_result"
    }
   ],
   "source": [
    "#find the median \n",
    "MarketingData['NumWebPurchases'].median()"
   ]
  },
  {
   "cell_type": "markdown",
   "id": "33a09eef",
   "metadata": {},
   "source": [
    "#### Classes are:\n",
    "1. LowWebPurchase :(<=4 NumWebPurchases) => 0\n",
    "2. HighWebPurchase :(>4 NumWebPurchases) => 1"
   ]
  },
  {
   "cell_type": "code",
   "execution_count": 11,
   "id": "ed0c740a",
   "metadata": {},
   "outputs": [
    {
     "data": {
      "text/plain": [
       "array([0, 1, 0, ..., 1, 1, 1])"
      ]
     },
     "execution_count": 11,
     "metadata": {},
     "output_type": "execute_result"
    }
   ],
   "source": [
    "##convert target variable to nominal numeric 1/0 mapping\n",
    "targets = np.where(MarketingData['NumWebPurchases'] >\n",
    "                   MarketingData['NumWebPurchases'].median(), 1, 0 )\n",
    "\n",
    "targets"
   ]
  },
  {
   "cell_type": "code",
   "execution_count": 12,
   "id": "885dfa2b",
   "metadata": {
    "scrolled": true
   },
   "outputs": [
    {
     "data": {
      "text/html": [
       "<div>\n",
       "<style scoped>\n",
       "    .dataframe tbody tr th:only-of-type {\n",
       "        vertical-align: middle;\n",
       "    }\n",
       "\n",
       "    .dataframe tbody tr th {\n",
       "        vertical-align: top;\n",
       "    }\n",
       "\n",
       "    .dataframe thead th {\n",
       "        text-align: right;\n",
       "    }\n",
       "</style>\n",
       "<table border=\"1\" class=\"dataframe\">\n",
       "  <thead>\n",
       "    <tr style=\"text-align: right;\">\n",
       "      <th></th>\n",
       "      <th>ID</th>\n",
       "      <th>Year_Birth</th>\n",
       "      <th>Education</th>\n",
       "      <th>Marital_Status</th>\n",
       "      <th>Income</th>\n",
       "      <th>Kidhome</th>\n",
       "      <th>Teenhome</th>\n",
       "      <th>Dt_Customer</th>\n",
       "      <th>Recency</th>\n",
       "      <th>MntWines</th>\n",
       "      <th>...</th>\n",
       "      <th>NumWebVisitsMonth</th>\n",
       "      <th>AcceptedCmp3</th>\n",
       "      <th>AcceptedCmp4</th>\n",
       "      <th>AcceptedCmp5</th>\n",
       "      <th>AcceptedCmp1</th>\n",
       "      <th>AcceptedCmp2</th>\n",
       "      <th>Response</th>\n",
       "      <th>Complain</th>\n",
       "      <th>Country</th>\n",
       "      <th>HighWebPurchase</th>\n",
       "    </tr>\n",
       "  </thead>\n",
       "  <tbody>\n",
       "    <tr>\n",
       "      <th>0</th>\n",
       "      <td>1826</td>\n",
       "      <td>1970</td>\n",
       "      <td>Graduation</td>\n",
       "      <td>Divorced</td>\n",
       "      <td>84835.0</td>\n",
       "      <td>0</td>\n",
       "      <td>0</td>\n",
       "      <td>16-06-2014</td>\n",
       "      <td>0</td>\n",
       "      <td>189</td>\n",
       "      <td>...</td>\n",
       "      <td>1</td>\n",
       "      <td>0</td>\n",
       "      <td>0</td>\n",
       "      <td>0</td>\n",
       "      <td>0</td>\n",
       "      <td>0</td>\n",
       "      <td>1</td>\n",
       "      <td>0</td>\n",
       "      <td>Spain</td>\n",
       "      <td>0</td>\n",
       "    </tr>\n",
       "    <tr>\n",
       "      <th>1</th>\n",
       "      <td>1</td>\n",
       "      <td>1961</td>\n",
       "      <td>Graduation</td>\n",
       "      <td>Single</td>\n",
       "      <td>57091.0</td>\n",
       "      <td>0</td>\n",
       "      <td>0</td>\n",
       "      <td>15-06-2014</td>\n",
       "      <td>0</td>\n",
       "      <td>464</td>\n",
       "      <td>...</td>\n",
       "      <td>5</td>\n",
       "      <td>0</td>\n",
       "      <td>0</td>\n",
       "      <td>0</td>\n",
       "      <td>0</td>\n",
       "      <td>1</td>\n",
       "      <td>1</td>\n",
       "      <td>0</td>\n",
       "      <td>Canada</td>\n",
       "      <td>1</td>\n",
       "    </tr>\n",
       "    <tr>\n",
       "      <th>2</th>\n",
       "      <td>10476</td>\n",
       "      <td>1958</td>\n",
       "      <td>Graduation</td>\n",
       "      <td>Married</td>\n",
       "      <td>67267.0</td>\n",
       "      <td>0</td>\n",
       "      <td>1</td>\n",
       "      <td>13-05-2014</td>\n",
       "      <td>0</td>\n",
       "      <td>134</td>\n",
       "      <td>...</td>\n",
       "      <td>2</td>\n",
       "      <td>0</td>\n",
       "      <td>0</td>\n",
       "      <td>0</td>\n",
       "      <td>0</td>\n",
       "      <td>0</td>\n",
       "      <td>0</td>\n",
       "      <td>0</td>\n",
       "      <td>USA</td>\n",
       "      <td>0</td>\n",
       "    </tr>\n",
       "    <tr>\n",
       "      <th>3</th>\n",
       "      <td>1386</td>\n",
       "      <td>1967</td>\n",
       "      <td>Graduation</td>\n",
       "      <td>Together</td>\n",
       "      <td>32474.0</td>\n",
       "      <td>1</td>\n",
       "      <td>1</td>\n",
       "      <td>11-05-2014</td>\n",
       "      <td>0</td>\n",
       "      <td>10</td>\n",
       "      <td>...</td>\n",
       "      <td>7</td>\n",
       "      <td>0</td>\n",
       "      <td>0</td>\n",
       "      <td>0</td>\n",
       "      <td>0</td>\n",
       "      <td>0</td>\n",
       "      <td>0</td>\n",
       "      <td>0</td>\n",
       "      <td>Australia</td>\n",
       "      <td>0</td>\n",
       "    </tr>\n",
       "    <tr>\n",
       "      <th>4</th>\n",
       "      <td>5371</td>\n",
       "      <td>1989</td>\n",
       "      <td>Graduation</td>\n",
       "      <td>Single</td>\n",
       "      <td>21474.0</td>\n",
       "      <td>1</td>\n",
       "      <td>0</td>\n",
       "      <td>08-04-2014</td>\n",
       "      <td>0</td>\n",
       "      <td>6</td>\n",
       "      <td>...</td>\n",
       "      <td>7</td>\n",
       "      <td>1</td>\n",
       "      <td>0</td>\n",
       "      <td>0</td>\n",
       "      <td>0</td>\n",
       "      <td>0</td>\n",
       "      <td>1</td>\n",
       "      <td>0</td>\n",
       "      <td>Spain</td>\n",
       "      <td>0</td>\n",
       "    </tr>\n",
       "  </tbody>\n",
       "</table>\n",
       "<p>5 rows × 29 columns</p>\n",
       "</div>"
      ],
      "text/plain": [
       "      ID  Year_Birth   Education Marital_Status   Income  Kidhome  Teenhome  \\\n",
       "0   1826        1970  Graduation       Divorced  84835.0        0         0   \n",
       "1      1        1961  Graduation         Single  57091.0        0         0   \n",
       "2  10476        1958  Graduation        Married  67267.0        0         1   \n",
       "3   1386        1967  Graduation       Together  32474.0        1         1   \n",
       "4   5371        1989  Graduation         Single  21474.0        1         0   \n",
       "\n",
       "  Dt_Customer  Recency  MntWines  ...  NumWebVisitsMonth  AcceptedCmp3  \\\n",
       "0  16-06-2014        0       189  ...                  1             0   \n",
       "1  15-06-2014        0       464  ...                  5             0   \n",
       "2  13-05-2014        0       134  ...                  2             0   \n",
       "3  11-05-2014        0        10  ...                  7             0   \n",
       "4  08-04-2014        0         6  ...                  7             1   \n",
       "\n",
       "   AcceptedCmp4  AcceptedCmp5  AcceptedCmp1  AcceptedCmp2  Response  Complain  \\\n",
       "0             0             0             0             0         1         0   \n",
       "1             0             0             0             1         1         0   \n",
       "2             0             0             0             0         0         0   \n",
       "3             0             0             0             0         0         0   \n",
       "4             0             0             0             0         1         0   \n",
       "\n",
       "     Country  HighWebPurchase  \n",
       "0      Spain                0  \n",
       "1     Canada                1  \n",
       "2        USA                0  \n",
       "3  Australia                0  \n",
       "4      Spain                0  \n",
       "\n",
       "[5 rows x 29 columns]"
      ]
     },
     "execution_count": 12,
     "metadata": {},
     "output_type": "execute_result"
    }
   ],
   "source": [
    "#create new column 'Excessive Absenteeism' \n",
    "MarketingData['HighWebPurchase'] = targets\n",
    "MarketingData.head()"
   ]
  },
  {
   "cell_type": "markdown",
   "id": "9b7c63fb",
   "metadata": {},
   "source": [
    "#### Plotting target variable Excessive Absenteeism which is categorical"
   ]
  },
  {
   "cell_type": "code",
   "execution_count": 13,
   "id": "48febeac",
   "metadata": {},
   "outputs": [
    {
     "data": {
      "text/plain": [
       "<AxesSubplot:xlabel='HighWebPurchase'>"
      ]
     },
     "execution_count": 13,
     "metadata": {},
     "output_type": "execute_result"
    },
    {
     "data": {
      "image/png": "[encoded data removed]",
      "text/plain": [
       "<Figure size 360x288 with 1 Axes>"
      ]
     },
     "metadata": {
      "needs_background": "light"
     },
     "output_type": "display_data"
    }
   ],
   "source": [
    "%matplotlib inline\n",
    "#Creating Bar chart as the Target variable is Categorical\n",
    "GroupedData=MarketingData.groupby('HighWebPurchase').size()\n",
    "GroupedData.plot(kind='bar',figsize=(5,4))"
   ]
  },
  {
   "cell_type": "markdown",
   "id": "f1a05ec9",
   "metadata": {},
   "source": [
    "The data distribution of the target variable is satisfactory to proceed further. There are sufficient number of rows for each category to learn from."
   ]
  },
  {
   "cell_type": "markdown",
   "id": "e49e7e4e",
   "metadata": {},
   "source": [
    "## 5. Basic Data Exploration"
   ]
  },
  {
   "cell_type": "code",
   "execution_count": 14,
   "id": "3090dded",
   "metadata": {},
   "outputs": [
    {
     "data": {
      "text/html": [
       "<div>\n",
       "<style scoped>\n",
       "    .dataframe tbody tr th:only-of-type {\n",
       "        vertical-align: middle;\n",
       "    }\n",
       "\n",
       "    .dataframe tbody tr th {\n",
       "        vertical-align: top;\n",
       "    }\n",
       "\n",
       "    .dataframe thead th {\n",
       "        text-align: right;\n",
       "    }\n",
       "</style>\n",
       "<table border=\"1\" class=\"dataframe\">\n",
       "  <thead>\n",
       "    <tr style=\"text-align: right;\">\n",
       "      <th></th>\n",
       "      <th>ID</th>\n",
       "      <th>Year_Birth</th>\n",
       "      <th>Education</th>\n",
       "      <th>Marital_Status</th>\n",
       "      <th>Income</th>\n",
       "      <th>Kidhome</th>\n",
       "      <th>Teenhome</th>\n",
       "      <th>Dt_Customer</th>\n",
       "      <th>Recency</th>\n",
       "      <th>MntWines</th>\n",
       "      <th>...</th>\n",
       "      <th>NumWebVisitsMonth</th>\n",
       "      <th>AcceptedCmp3</th>\n",
       "      <th>AcceptedCmp4</th>\n",
       "      <th>AcceptedCmp5</th>\n",
       "      <th>AcceptedCmp1</th>\n",
       "      <th>AcceptedCmp2</th>\n",
       "      <th>Response</th>\n",
       "      <th>Complain</th>\n",
       "      <th>Country</th>\n",
       "      <th>HighWebPurchase</th>\n",
       "    </tr>\n",
       "  </thead>\n",
       "  <tbody>\n",
       "    <tr>\n",
       "      <th>0</th>\n",
       "      <td>1826</td>\n",
       "      <td>1970</td>\n",
       "      <td>Graduation</td>\n",
       "      <td>Divorced</td>\n",
       "      <td>84835.0</td>\n",
       "      <td>0</td>\n",
       "      <td>0</td>\n",
       "      <td>16-06-2014</td>\n",
       "      <td>0</td>\n",
       "      <td>189</td>\n",
       "      <td>...</td>\n",
       "      <td>1</td>\n",
       "      <td>0</td>\n",
       "      <td>0</td>\n",
       "      <td>0</td>\n",
       "      <td>0</td>\n",
       "      <td>0</td>\n",
       "      <td>1</td>\n",
       "      <td>0</td>\n",
       "      <td>Spain</td>\n",
       "      <td>0</td>\n",
       "    </tr>\n",
       "    <tr>\n",
       "      <th>1</th>\n",
       "      <td>1</td>\n",
       "      <td>1961</td>\n",
       "      <td>Graduation</td>\n",
       "      <td>Single</td>\n",
       "      <td>57091.0</td>\n",
       "      <td>0</td>\n",
       "      <td>0</td>\n",
       "      <td>15-06-2014</td>\n",
       "      <td>0</td>\n",
       "      <td>464</td>\n",
       "      <td>...</td>\n",
       "      <td>5</td>\n",
       "      <td>0</td>\n",
       "      <td>0</td>\n",
       "      <td>0</td>\n",
       "      <td>0</td>\n",
       "      <td>1</td>\n",
       "      <td>1</td>\n",
       "      <td>0</td>\n",
       "      <td>Canada</td>\n",
       "      <td>1</td>\n",
       "    </tr>\n",
       "    <tr>\n",
       "      <th>2</th>\n",
       "      <td>10476</td>\n",
       "      <td>1958</td>\n",
       "      <td>Graduation</td>\n",
       "      <td>Married</td>\n",
       "      <td>67267.0</td>\n",
       "      <td>0</td>\n",
       "      <td>1</td>\n",
       "      <td>13-05-2014</td>\n",
       "      <td>0</td>\n",
       "      <td>134</td>\n",
       "      <td>...</td>\n",
       "      <td>2</td>\n",
       "      <td>0</td>\n",
       "      <td>0</td>\n",
       "      <td>0</td>\n",
       "      <td>0</td>\n",
       "      <td>0</td>\n",
       "      <td>0</td>\n",
       "      <td>0</td>\n",
       "      <td>USA</td>\n",
       "      <td>0</td>\n",
       "    </tr>\n",
       "    <tr>\n",
       "      <th>3</th>\n",
       "      <td>1386</td>\n",
       "      <td>1967</td>\n",
       "      <td>Graduation</td>\n",
       "      <td>Together</td>\n",
       "      <td>32474.0</td>\n",
       "      <td>1</td>\n",
       "      <td>1</td>\n",
       "      <td>11-05-2014</td>\n",
       "      <td>0</td>\n",
       "      <td>10</td>\n",
       "      <td>...</td>\n",
       "      <td>7</td>\n",
       "      <td>0</td>\n",
       "      <td>0</td>\n",
       "      <td>0</td>\n",
       "      <td>0</td>\n",
       "      <td>0</td>\n",
       "      <td>0</td>\n",
       "      <td>0</td>\n",
       "      <td>Australia</td>\n",
       "      <td>0</td>\n",
       "    </tr>\n",
       "    <tr>\n",
       "      <th>4</th>\n",
       "      <td>5371</td>\n",
       "      <td>1989</td>\n",
       "      <td>Graduation</td>\n",
       "      <td>Single</td>\n",
       "      <td>21474.0</td>\n",
       "      <td>1</td>\n",
       "      <td>0</td>\n",
       "      <td>08-04-2014</td>\n",
       "      <td>0</td>\n",
       "      <td>6</td>\n",
       "      <td>...</td>\n",
       "      <td>7</td>\n",
       "      <td>1</td>\n",
       "      <td>0</td>\n",
       "      <td>0</td>\n",
       "      <td>0</td>\n",
       "      <td>0</td>\n",
       "      <td>1</td>\n",
       "      <td>0</td>\n",
       "      <td>Spain</td>\n",
       "      <td>0</td>\n",
       "    </tr>\n",
       "  </tbody>\n",
       "</table>\n",
       "<p>5 rows × 29 columns</p>\n",
       "</div>"
      ],
      "text/plain": [
       "      ID  Year_Birth   Education Marital_Status   Income  Kidhome  Teenhome  \\\n",
       "0   1826        1970  Graduation       Divorced  84835.0        0         0   \n",
       "1      1        1961  Graduation         Single  57091.0        0         0   \n",
       "2  10476        1958  Graduation        Married  67267.0        0         1   \n",
       "3   1386        1967  Graduation       Together  32474.0        1         1   \n",
       "4   5371        1989  Graduation         Single  21474.0        1         0   \n",
       "\n",
       "  Dt_Customer  Recency  MntWines  ...  NumWebVisitsMonth  AcceptedCmp3  \\\n",
       "0  16-06-2014        0       189  ...                  1             0   \n",
       "1  15-06-2014        0       464  ...                  5             0   \n",
       "2  13-05-2014        0       134  ...                  2             0   \n",
       "3  11-05-2014        0        10  ...                  7             0   \n",
       "4  08-04-2014        0         6  ...                  7             1   \n",
       "\n",
       "   AcceptedCmp4  AcceptedCmp5  AcceptedCmp1  AcceptedCmp2  Response  Complain  \\\n",
       "0             0             0             0             0         1         0   \n",
       "1             0             0             0             1         1         0   \n",
       "2             0             0             0             0         0         0   \n",
       "3             0             0             0             0         0         0   \n",
       "4             0             0             0             0         1         0   \n",
       "\n",
       "     Country  HighWebPurchase  \n",
       "0      Spain                0  \n",
       "1     Canada                1  \n",
       "2        USA                0  \n",
       "3  Australia                0  \n",
       "4      Spain                0  \n",
       "\n",
       "[5 rows x 29 columns]"
      ]
     },
     "execution_count": 14,
     "metadata": {},
     "output_type": "execute_result"
    }
   ],
   "source": [
    "# Looking at sample rows in the data\n",
    "MarketingData.head()"
   ]
  },
  {
   "cell_type": "code",
   "execution_count": 15,
   "id": "adbccf76",
   "metadata": {},
   "outputs": [
    {
     "name": "stdout",
     "output_type": "stream",
     "text": [
      "<class 'pandas.core.frame.DataFrame'>\n",
      "Int64Index: 2240 entries, 0 to 2239\n",
      "Data columns (total 29 columns):\n",
      " #   Column               Non-Null Count  Dtype  \n",
      "---  ------               --------------  -----  \n",
      " 0   ID                   2240 non-null   int64  \n",
      " 1   Year_Birth           2240 non-null   int64  \n",
      " 2   Education            2240 non-null   object \n",
      " 3   Marital_Status       2240 non-null   object \n",
      " 4   Income               2216 non-null   float64\n",
      " 5   Kidhome              2240 non-null   int64  \n",
      " 6   Teenhome             2240 non-null   int64  \n",
      " 7   Dt_Customer          2240 non-null   object \n",
      " 8   Recency              2240 non-null   int64  \n",
      " 9   MntWines             2240 non-null   int64  \n",
      " 10  MntFruits            2240 non-null   int64  \n",
      " 11  MntMeatProducts      2240 non-null   int64  \n",
      " 12  MntFishProducts      2240 non-null   int64  \n",
      " 13  MntSweetProducts     2240 non-null   int64  \n",
      " 14  MntGoldProds         2240 non-null   int64  \n",
      " 15  NumDealsPurchases    2240 non-null   int64  \n",
      " 16  NumWebPurchases      2240 non-null   int64  \n",
      " 17  NumCatalogPurchases  2240 non-null   int64  \n",
      " 18  NumStorePurchases    2240 non-null   int64  \n",
      " 19  NumWebVisitsMonth    2240 non-null   int64  \n",
      " 20  AcceptedCmp3         2240 non-null   int64  \n",
      " 21  AcceptedCmp4         2240 non-null   int64  \n",
      " 22  AcceptedCmp5         2240 non-null   int64  \n",
      " 23  AcceptedCmp1         2240 non-null   int64  \n",
      " 24  AcceptedCmp2         2240 non-null   int64  \n",
      " 25  Response             2240 non-null   int64  \n",
      " 26  Complain             2240 non-null   int64  \n",
      " 27  Country              2240 non-null   object \n",
      " 28  HighWebPurchase      2240 non-null   int32  \n",
      "dtypes: float64(1), int32(1), int64(23), object(4)\n",
      "memory usage: 516.2+ KB\n"
     ]
    }
   ],
   "source": [
    "# Observing the summarized information of data\n",
    "# Data types, Missing values based on number of non-null values Vs total rows etc.\n",
    "# Remove those variables from data which have too many missing values (Missing Values > 30%)\n",
    "# Remove Qualitative variables which cannot be used in Machine Learning\n",
    "MarketingData.info()"
   ]
  },
  {
   "cell_type": "code",
   "execution_count": 16,
   "id": "ac9eb669",
   "metadata": {},
   "outputs": [
    {
     "data": {
      "text/html": [
       "<div>\n",
       "<style scoped>\n",
       "    .dataframe tbody tr th:only-of-type {\n",
       "        vertical-align: middle;\n",
       "    }\n",
       "\n",
       "    .dataframe tbody tr th {\n",
       "        vertical-align: top;\n",
       "    }\n",
       "\n",
       "    .dataframe thead th {\n",
       "        text-align: right;\n",
       "    }\n",
       "</style>\n",
       "<table border=\"1\" class=\"dataframe\">\n",
       "  <thead>\n",
       "    <tr style=\"text-align: right;\">\n",
       "      <th></th>\n",
       "      <th>ID</th>\n",
       "      <th>Year_Birth</th>\n",
       "      <th>Education</th>\n",
       "      <th>Marital_Status</th>\n",
       "      <th>Income</th>\n",
       "      <th>Kidhome</th>\n",
       "      <th>Teenhome</th>\n",
       "      <th>Dt_Customer</th>\n",
       "      <th>Recency</th>\n",
       "      <th>MntWines</th>\n",
       "      <th>...</th>\n",
       "      <th>NumWebVisitsMonth</th>\n",
       "      <th>AcceptedCmp3</th>\n",
       "      <th>AcceptedCmp4</th>\n",
       "      <th>AcceptedCmp5</th>\n",
       "      <th>AcceptedCmp1</th>\n",
       "      <th>AcceptedCmp2</th>\n",
       "      <th>Response</th>\n",
       "      <th>Complain</th>\n",
       "      <th>Country</th>\n",
       "      <th>HighWebPurchase</th>\n",
       "    </tr>\n",
       "  </thead>\n",
       "  <tbody>\n",
       "    <tr>\n",
       "      <th>count</th>\n",
       "      <td>2240.000000</td>\n",
       "      <td>2240.000000</td>\n",
       "      <td>2240</td>\n",
       "      <td>2240</td>\n",
       "      <td>2216.000000</td>\n",
       "      <td>2240.000000</td>\n",
       "      <td>2240.000000</td>\n",
       "      <td>2240</td>\n",
       "      <td>2240.000000</td>\n",
       "      <td>2240.000000</td>\n",
       "      <td>...</td>\n",
       "      <td>2240.000000</td>\n",
       "      <td>2240.000000</td>\n",
       "      <td>2240.000000</td>\n",
       "      <td>2240.000000</td>\n",
       "      <td>2240.000000</td>\n",
       "      <td>2240.000000</td>\n",
       "      <td>2240.000000</td>\n",
       "      <td>2240.000000</td>\n",
       "      <td>2240</td>\n",
       "      <td>2240.000000</td>\n",
       "    </tr>\n",
       "    <tr>\n",
       "      <th>unique</th>\n",
       "      <td>NaN</td>\n",
       "      <td>NaN</td>\n",
       "      <td>5</td>\n",
       "      <td>8</td>\n",
       "      <td>NaN</td>\n",
       "      <td>NaN</td>\n",
       "      <td>NaN</td>\n",
       "      <td>663</td>\n",
       "      <td>NaN</td>\n",
       "      <td>NaN</td>\n",
       "      <td>...</td>\n",
       "      <td>NaN</td>\n",
       "      <td>NaN</td>\n",
       "      <td>NaN</td>\n",
       "      <td>NaN</td>\n",
       "      <td>NaN</td>\n",
       "      <td>NaN</td>\n",
       "      <td>NaN</td>\n",
       "      <td>NaN</td>\n",
       "      <td>8</td>\n",
       "      <td>NaN</td>\n",
       "    </tr>\n",
       "    <tr>\n",
       "      <th>top</th>\n",
       "      <td>NaN</td>\n",
       "      <td>NaN</td>\n",
       "      <td>Graduation</td>\n",
       "      <td>Married</td>\n",
       "      <td>NaN</td>\n",
       "      <td>NaN</td>\n",
       "      <td>NaN</td>\n",
       "      <td>31-08-2012</td>\n",
       "      <td>NaN</td>\n",
       "      <td>NaN</td>\n",
       "      <td>...</td>\n",
       "      <td>NaN</td>\n",
       "      <td>NaN</td>\n",
       "      <td>NaN</td>\n",
       "      <td>NaN</td>\n",
       "      <td>NaN</td>\n",
       "      <td>NaN</td>\n",
       "      <td>NaN</td>\n",
       "      <td>NaN</td>\n",
       "      <td>Spain</td>\n",
       "      <td>NaN</td>\n",
       "    </tr>\n",
       "    <tr>\n",
       "      <th>freq</th>\n",
       "      <td>NaN</td>\n",
       "      <td>NaN</td>\n",
       "      <td>1127</td>\n",
       "      <td>864</td>\n",
       "      <td>NaN</td>\n",
       "      <td>NaN</td>\n",
       "      <td>NaN</td>\n",
       "      <td>12</td>\n",
       "      <td>NaN</td>\n",
       "      <td>NaN</td>\n",
       "      <td>...</td>\n",
       "      <td>NaN</td>\n",
       "      <td>NaN</td>\n",
       "      <td>NaN</td>\n",
       "      <td>NaN</td>\n",
       "      <td>NaN</td>\n",
       "      <td>NaN</td>\n",
       "      <td>NaN</td>\n",
       "      <td>NaN</td>\n",
       "      <td>1095</td>\n",
       "      <td>NaN</td>\n",
       "    </tr>\n",
       "    <tr>\n",
       "      <th>mean</th>\n",
       "      <td>5592.159821</td>\n",
       "      <td>1968.805804</td>\n",
       "      <td>NaN</td>\n",
       "      <td>NaN</td>\n",
       "      <td>52247.251354</td>\n",
       "      <td>0.444196</td>\n",
       "      <td>0.506250</td>\n",
       "      <td>NaN</td>\n",
       "      <td>49.109375</td>\n",
       "      <td>303.935714</td>\n",
       "      <td>...</td>\n",
       "      <td>5.316518</td>\n",
       "      <td>0.072768</td>\n",
       "      <td>0.074554</td>\n",
       "      <td>0.072768</td>\n",
       "      <td>0.064286</td>\n",
       "      <td>0.013393</td>\n",
       "      <td>0.149107</td>\n",
       "      <td>0.009375</td>\n",
       "      <td>NaN</td>\n",
       "      <td>0.378571</td>\n",
       "    </tr>\n",
       "    <tr>\n",
       "      <th>std</th>\n",
       "      <td>3246.662198</td>\n",
       "      <td>11.984069</td>\n",
       "      <td>NaN</td>\n",
       "      <td>NaN</td>\n",
       "      <td>25173.076661</td>\n",
       "      <td>0.538398</td>\n",
       "      <td>0.544538</td>\n",
       "      <td>NaN</td>\n",
       "      <td>28.962453</td>\n",
       "      <td>336.597393</td>\n",
       "      <td>...</td>\n",
       "      <td>2.426645</td>\n",
       "      <td>0.259813</td>\n",
       "      <td>0.262728</td>\n",
       "      <td>0.259813</td>\n",
       "      <td>0.245316</td>\n",
       "      <td>0.114976</td>\n",
       "      <td>0.356274</td>\n",
       "      <td>0.096391</td>\n",
       "      <td>NaN</td>\n",
       "      <td>0.485139</td>\n",
       "    </tr>\n",
       "    <tr>\n",
       "      <th>min</th>\n",
       "      <td>0.000000</td>\n",
       "      <td>1893.000000</td>\n",
       "      <td>NaN</td>\n",
       "      <td>NaN</td>\n",
       "      <td>1730.000000</td>\n",
       "      <td>0.000000</td>\n",
       "      <td>0.000000</td>\n",
       "      <td>NaN</td>\n",
       "      <td>0.000000</td>\n",
       "      <td>0.000000</td>\n",
       "      <td>...</td>\n",
       "      <td>0.000000</td>\n",
       "      <td>0.000000</td>\n",
       "      <td>0.000000</td>\n",
       "      <td>0.000000</td>\n",
       "      <td>0.000000</td>\n",
       "      <td>0.000000</td>\n",
       "      <td>0.000000</td>\n",
       "      <td>0.000000</td>\n",
       "      <td>NaN</td>\n",
       "      <td>0.000000</td>\n",
       "    </tr>\n",
       "    <tr>\n",
       "      <th>25%</th>\n",
       "      <td>2828.250000</td>\n",
       "      <td>1959.000000</td>\n",
       "      <td>NaN</td>\n",
       "      <td>NaN</td>\n",
       "      <td>35303.000000</td>\n",
       "      <td>0.000000</td>\n",
       "      <td>0.000000</td>\n",
       "      <td>NaN</td>\n",
       "      <td>24.000000</td>\n",
       "      <td>23.750000</td>\n",
       "      <td>...</td>\n",
       "      <td>3.000000</td>\n",
       "      <td>0.000000</td>\n",
       "      <td>0.000000</td>\n",
       "      <td>0.000000</td>\n",
       "      <td>0.000000</td>\n",
       "      <td>0.000000</td>\n",
       "      <td>0.000000</td>\n",
       "      <td>0.000000</td>\n",
       "      <td>NaN</td>\n",
       "      <td>0.000000</td>\n",
       "    </tr>\n",
       "    <tr>\n",
       "      <th>50%</th>\n",
       "      <td>5458.500000</td>\n",
       "      <td>1970.000000</td>\n",
       "      <td>NaN</td>\n",
       "      <td>NaN</td>\n",
       "      <td>51381.500000</td>\n",
       "      <td>0.000000</td>\n",
       "      <td>0.000000</td>\n",
       "      <td>NaN</td>\n",
       "      <td>49.000000</td>\n",
       "      <td>173.500000</td>\n",
       "      <td>...</td>\n",
       "      <td>6.000000</td>\n",
       "      <td>0.000000</td>\n",
       "      <td>0.000000</td>\n",
       "      <td>0.000000</td>\n",
       "      <td>0.000000</td>\n",
       "      <td>0.000000</td>\n",
       "      <td>0.000000</td>\n",
       "      <td>0.000000</td>\n",
       "      <td>NaN</td>\n",
       "      <td>0.000000</td>\n",
       "    </tr>\n",
       "    <tr>\n",
       "      <th>75%</th>\n",
       "      <td>8427.750000</td>\n",
       "      <td>1977.000000</td>\n",
       "      <td>NaN</td>\n",
       "      <td>NaN</td>\n",
       "      <td>68522.000000</td>\n",
       "      <td>1.000000</td>\n",
       "      <td>1.000000</td>\n",
       "      <td>NaN</td>\n",
       "      <td>74.000000</td>\n",
       "      <td>504.250000</td>\n",
       "      <td>...</td>\n",
       "      <td>7.000000</td>\n",
       "      <td>0.000000</td>\n",
       "      <td>0.000000</td>\n",
       "      <td>0.000000</td>\n",
       "      <td>0.000000</td>\n",
       "      <td>0.000000</td>\n",
       "      <td>0.000000</td>\n",
       "      <td>0.000000</td>\n",
       "      <td>NaN</td>\n",
       "      <td>1.000000</td>\n",
       "    </tr>\n",
       "    <tr>\n",
       "      <th>max</th>\n",
       "      <td>11191.000000</td>\n",
       "      <td>1996.000000</td>\n",
       "      <td>NaN</td>\n",
       "      <td>NaN</td>\n",
       "      <td>666666.000000</td>\n",
       "      <td>2.000000</td>\n",
       "      <td>2.000000</td>\n",
       "      <td>NaN</td>\n",
       "      <td>99.000000</td>\n",
       "      <td>1493.000000</td>\n",
       "      <td>...</td>\n",
       "      <td>20.000000</td>\n",
       "      <td>1.000000</td>\n",
       "      <td>1.000000</td>\n",
       "      <td>1.000000</td>\n",
       "      <td>1.000000</td>\n",
       "      <td>1.000000</td>\n",
       "      <td>1.000000</td>\n",
       "      <td>1.000000</td>\n",
       "      <td>NaN</td>\n",
       "      <td>1.000000</td>\n",
       "    </tr>\n",
       "  </tbody>\n",
       "</table>\n",
       "<p>11 rows × 29 columns</p>\n",
       "</div>"
      ],
      "text/plain": [
       "                  ID   Year_Birth   Education Marital_Status         Income  \\\n",
       "count    2240.000000  2240.000000        2240           2240    2216.000000   \n",
       "unique           NaN          NaN           5              8            NaN   \n",
       "top              NaN          NaN  Graduation        Married            NaN   \n",
       "freq             NaN          NaN        1127            864            NaN   \n",
       "mean     5592.159821  1968.805804         NaN            NaN   52247.251354   \n",
       "std      3246.662198    11.984069         NaN            NaN   25173.076661   \n",
       "min         0.000000  1893.000000         NaN            NaN    1730.000000   \n",
       "25%      2828.250000  1959.000000         NaN            NaN   35303.000000   \n",
       "50%      5458.500000  1970.000000         NaN            NaN   51381.500000   \n",
       "75%      8427.750000  1977.000000         NaN            NaN   68522.000000   \n",
       "max     11191.000000  1996.000000         NaN            NaN  666666.000000   \n",
       "\n",
       "            Kidhome     Teenhome Dt_Customer      Recency     MntWines  ...  \\\n",
       "count   2240.000000  2240.000000        2240  2240.000000  2240.000000  ...   \n",
       "unique          NaN          NaN         663          NaN          NaN  ...   \n",
       "top             NaN          NaN  31-08-2012          NaN          NaN  ...   \n",
       "freq            NaN          NaN          12          NaN          NaN  ...   \n",
       "mean       0.444196     0.506250         NaN    49.109375   303.935714  ...   \n",
       "std        0.538398     0.544538         NaN    28.962453   336.597393  ...   \n",
       "min        0.000000     0.000000         NaN     0.000000     0.000000  ...   \n",
       "25%        0.000000     0.000000         NaN    24.000000    23.750000  ...   \n",
       "50%        0.000000     0.000000         NaN    49.000000   173.500000  ...   \n",
       "75%        1.000000     1.000000         NaN    74.000000   504.250000  ...   \n",
       "max        2.000000     2.000000         NaN    99.000000  1493.000000  ...   \n",
       "\n",
       "        NumWebVisitsMonth  AcceptedCmp3  AcceptedCmp4  AcceptedCmp5  \\\n",
       "count         2240.000000   2240.000000   2240.000000   2240.000000   \n",
       "unique                NaN           NaN           NaN           NaN   \n",
       "top                   NaN           NaN           NaN           NaN   \n",
       "freq                  NaN           NaN           NaN           NaN   \n",
       "mean             5.316518      0.072768      0.074554      0.072768   \n",
       "std              2.426645      0.259813      0.262728      0.259813   \n",
       "min              0.000000      0.000000      0.000000      0.000000   \n",
       "25%              3.000000      0.000000      0.000000      0.000000   \n",
       "50%              6.000000      0.000000      0.000000      0.000000   \n",
       "75%              7.000000      0.000000      0.000000      0.000000   \n",
       "max             20.000000      1.000000      1.000000      1.000000   \n",
       "\n",
       "        AcceptedCmp1  AcceptedCmp2     Response     Complain  Country  \\\n",
       "count    2240.000000   2240.000000  2240.000000  2240.000000     2240   \n",
       "unique           NaN           NaN          NaN          NaN        8   \n",
       "top              NaN           NaN          NaN          NaN    Spain   \n",
       "freq             NaN           NaN          NaN          NaN     1095   \n",
       "mean        0.064286      0.013393     0.149107     0.009375      NaN   \n",
       "std         0.245316      0.114976     0.356274     0.096391      NaN   \n",
       "min         0.000000      0.000000     0.000000     0.000000      NaN   \n",
       "25%         0.000000      0.000000     0.000000     0.000000      NaN   \n",
       "50%         0.000000      0.000000     0.000000     0.000000      NaN   \n",
       "75%         0.000000      0.000000     0.000000     0.000000      NaN   \n",
       "max         1.000000      1.000000     1.000000     1.000000      NaN   \n",
       "\n",
       "        HighWebPurchase  \n",
       "count       2240.000000  \n",
       "unique              NaN  \n",
       "top                 NaN  \n",
       "freq                NaN  \n",
       "mean           0.378571  \n",
       "std            0.485139  \n",
       "min            0.000000  \n",
       "25%            0.000000  \n",
       "50%            0.000000  \n",
       "75%            1.000000  \n",
       "max            1.000000  \n",
       "\n",
       "[11 rows x 29 columns]"
      ]
     },
     "execution_count": 16,
     "metadata": {},
     "output_type": "execute_result"
    }
   ],
   "source": [
    "# Looking at the descriptive statistics of the data\n",
    "MarketingData.describe(include='all')"
   ]
  },
  {
   "cell_type": "code",
   "execution_count": 17,
   "id": "b14c8ae2",
   "metadata": {},
   "outputs": [
    {
     "data": {
      "text/plain": [
       "ID                     2240\n",
       "Year_Birth               59\n",
       "Education                 5\n",
       "Marital_Status            8\n",
       "Income                 1974\n",
       "Kidhome                   3\n",
       "Teenhome                  3\n",
       "Dt_Customer             663\n",
       "Recency                 100\n",
       "MntWines                776\n",
       "MntFruits               158\n",
       "MntMeatProducts         558\n",
       "MntFishProducts         182\n",
       "MntSweetProducts        177\n",
       "MntGoldProds            213\n",
       "NumDealsPurchases        15\n",
       "NumWebPurchases          12\n",
       "NumCatalogPurchases      14\n",
       "NumStorePurchases        14\n",
       "NumWebVisitsMonth        16\n",
       "AcceptedCmp3              2\n",
       "AcceptedCmp4              2\n",
       "AcceptedCmp5              2\n",
       "AcceptedCmp1              2\n",
       "AcceptedCmp2              2\n",
       "Response                  2\n",
       "Complain                  2\n",
       "Country                   8\n",
       "HighWebPurchase           2\n",
       "dtype: int64"
      ]
     },
     "execution_count": 17,
     "metadata": {},
     "output_type": "execute_result"
    }
   ],
   "source": [
    "# Finging unique values for each column\n",
    "# TO understand which column is categorical and which one is Continuous\n",
    "# Typically if the numer of unique values are < 20 then the variable is likely to be a category otherwise continuous\n",
    "MarketingData.nunique()"
   ]
  },
  {
   "cell_type": "markdown",
   "id": "2b486b89",
   "metadata": {},
   "source": [
    "#### Basic Data Exploration Results\n",
    "Based on the basic exploration above, you can now create a simple report of the data, noting down your observations regaring each column. Hence, creating a initial roadmap for further analysis.\n",
    "\n",
    "The selected columns in this step are not final, further study will be done and then a final list will be created.\n",
    "* ID: Qualitative. Not Selected.\n",
    "* Year_Birth : Continuous. Rejected. A new feature can be engineered from it.\n",
    "* Education: Categorical. Selected.\n",
    "* Marital_Status: Categorical. Selected.\n",
    "* Income : Continuous. Selected. \n",
    "* Kidhome : Categorical. Selected.\n",
    "* Teenhome: Categorical. Selected.\n",
    "* Dt_Customer: Continuous. Rejected. A new feature can be engineered from it.\n",
    "* Recency: Continuous. Rejected. A new feature can be engineered from it.\n",
    "* MntWines : Continuous. Selected. \n",
    "* MntFruits: Continuous. Selected. \n",
    "* MntMeatProducts: Continuous. Selected. \n",
    "* MntFishProducts: Continuous. Selected. \n",
    "* MntSweetProducts: Continuous. Selected. \n",
    "* MntGoldProds: Continuous. Selected. \n",
    "* NumDealsPurchases: Continuous. Selected. \n",
    "* NumWebPurchases : Continuous. Rejected as we have featured the target variable.\n",
    "* NumCatalogPurchases: Continuous. Selected. \n",
    "* NumStorePurchases: Continuous. Selected. \n",
    "* NumWebVisitsMonth: Continuous. Selected. \n",
    "* AcceptedCmp3: Categorical. Selected.\n",
    "* AcceptedCmp4: Categorical. Selected.\n",
    "* AcceptedCmp5: Categorical. Selected.\n",
    "* AcceptedCmp1: Categorical. Selected.\n",
    "* AcceptedCmp2: Categorical. Selected.\n",
    "* Response: Categorical. Selected.\n",
    "* Complain: Qualitative. Not Selected.\n",
    "* Country : Categorical. Selected.    \n",
    "* HighWebPurchase : Categorical. Selected. This is the Target Variable"
   ]
  },
  {
   "cell_type": "markdown",
   "id": "5afed623",
   "metadata": {},
   "source": [
    "## 6. Feature Engineering"
   ]
  },
  {
   "cell_type": "markdown",
   "id": "47d8cdbf",
   "metadata": {},
   "source": [
    "#### Feature engineering on 'Year_Birth' to get 'age' column "
   ]
  },
  {
   "cell_type": "code",
   "execution_count": 18,
   "id": "71cb8799",
   "metadata": {},
   "outputs": [
    {
     "data": {
      "text/plain": [
       "0       1970\n",
       "1       1961\n",
       "2       1958\n",
       "3       1967\n",
       "4       1989\n",
       "        ... \n",
       "2235    1976\n",
       "2236    1977\n",
       "2237    1976\n",
       "2238    1978\n",
       "2239    1969\n",
       "Name: Year_Birth, Length: 2240, dtype: int64"
      ]
     },
     "execution_count": 18,
     "metadata": {},
     "output_type": "execute_result"
    }
   ],
   "source": [
    "type(MarketingData['Year_Birth'][0])\n",
    "MarketingData['Year_Birth']"
   ]
  },
  {
   "cell_type": "code",
   "execution_count": null,
   "id": "f6858ac4",
   "metadata": {
    "scrolled": true
   },
   "outputs": [],
   "source": []
  },
  {
   "cell_type": "code",
   "execution_count": 19,
   "id": "ef3cbc51",
   "metadata": {},
   "outputs": [
    {
     "data": {
      "text/html": [
       "<div>\n",
       "<style scoped>\n",
       "    .dataframe tbody tr th:only-of-type {\n",
       "        vertical-align: middle;\n",
       "    }\n",
       "\n",
       "    .dataframe tbody tr th {\n",
       "        vertical-align: top;\n",
       "    }\n",
       "\n",
       "    .dataframe thead th {\n",
       "        text-align: right;\n",
       "    }\n",
       "</style>\n",
       "<table border=\"1\" class=\"dataframe\">\n",
       "  <thead>\n",
       "    <tr style=\"text-align: right;\">\n",
       "      <th></th>\n",
       "      <th>ID</th>\n",
       "      <th>Year_Birth</th>\n",
       "      <th>Education</th>\n",
       "      <th>Marital_Status</th>\n",
       "      <th>Income</th>\n",
       "      <th>Kidhome</th>\n",
       "      <th>Teenhome</th>\n",
       "      <th>Dt_Customer</th>\n",
       "      <th>Recency</th>\n",
       "      <th>MntWines</th>\n",
       "      <th>...</th>\n",
       "      <th>AcceptedCmp3</th>\n",
       "      <th>AcceptedCmp4</th>\n",
       "      <th>AcceptedCmp5</th>\n",
       "      <th>AcceptedCmp1</th>\n",
       "      <th>AcceptedCmp2</th>\n",
       "      <th>Response</th>\n",
       "      <th>Complain</th>\n",
       "      <th>Country</th>\n",
       "      <th>HighWebPurchase</th>\n",
       "      <th>age</th>\n",
       "    </tr>\n",
       "  </thead>\n",
       "  <tbody>\n",
       "    <tr>\n",
       "      <th>0</th>\n",
       "      <td>1826</td>\n",
       "      <td>1970</td>\n",
       "      <td>Graduation</td>\n",
       "      <td>Divorced</td>\n",
       "      <td>84835.0</td>\n",
       "      <td>0</td>\n",
       "      <td>0</td>\n",
       "      <td>16-06-2014</td>\n",
       "      <td>0</td>\n",
       "      <td>189</td>\n",
       "      <td>...</td>\n",
       "      <td>0</td>\n",
       "      <td>0</td>\n",
       "      <td>0</td>\n",
       "      <td>0</td>\n",
       "      <td>0</td>\n",
       "      <td>1</td>\n",
       "      <td>0</td>\n",
       "      <td>Spain</td>\n",
       "      <td>0</td>\n",
       "      <td>30</td>\n",
       "    </tr>\n",
       "    <tr>\n",
       "      <th>1</th>\n",
       "      <td>1</td>\n",
       "      <td>1961</td>\n",
       "      <td>Graduation</td>\n",
       "      <td>Single</td>\n",
       "      <td>57091.0</td>\n",
       "      <td>0</td>\n",
       "      <td>0</td>\n",
       "      <td>15-06-2014</td>\n",
       "      <td>0</td>\n",
       "      <td>464</td>\n",
       "      <td>...</td>\n",
       "      <td>0</td>\n",
       "      <td>0</td>\n",
       "      <td>0</td>\n",
       "      <td>0</td>\n",
       "      <td>1</td>\n",
       "      <td>1</td>\n",
       "      <td>0</td>\n",
       "      <td>Canada</td>\n",
       "      <td>1</td>\n",
       "      <td>39</td>\n",
       "    </tr>\n",
       "    <tr>\n",
       "      <th>2</th>\n",
       "      <td>10476</td>\n",
       "      <td>1958</td>\n",
       "      <td>Graduation</td>\n",
       "      <td>Married</td>\n",
       "      <td>67267.0</td>\n",
       "      <td>0</td>\n",
       "      <td>1</td>\n",
       "      <td>13-05-2014</td>\n",
       "      <td>0</td>\n",
       "      <td>134</td>\n",
       "      <td>...</td>\n",
       "      <td>0</td>\n",
       "      <td>0</td>\n",
       "      <td>0</td>\n",
       "      <td>0</td>\n",
       "      <td>0</td>\n",
       "      <td>0</td>\n",
       "      <td>0</td>\n",
       "      <td>USA</td>\n",
       "      <td>0</td>\n",
       "      <td>42</td>\n",
       "    </tr>\n",
       "    <tr>\n",
       "      <th>3</th>\n",
       "      <td>1386</td>\n",
       "      <td>1967</td>\n",
       "      <td>Graduation</td>\n",
       "      <td>Together</td>\n",
       "      <td>32474.0</td>\n",
       "      <td>1</td>\n",
       "      <td>1</td>\n",
       "      <td>11-05-2014</td>\n",
       "      <td>0</td>\n",
       "      <td>10</td>\n",
       "      <td>...</td>\n",
       "      <td>0</td>\n",
       "      <td>0</td>\n",
       "      <td>0</td>\n",
       "      <td>0</td>\n",
       "      <td>0</td>\n",
       "      <td>0</td>\n",
       "      <td>0</td>\n",
       "      <td>Australia</td>\n",
       "      <td>0</td>\n",
       "      <td>33</td>\n",
       "    </tr>\n",
       "    <tr>\n",
       "      <th>4</th>\n",
       "      <td>5371</td>\n",
       "      <td>1989</td>\n",
       "      <td>Graduation</td>\n",
       "      <td>Single</td>\n",
       "      <td>21474.0</td>\n",
       "      <td>1</td>\n",
       "      <td>0</td>\n",
       "      <td>08-04-2014</td>\n",
       "      <td>0</td>\n",
       "      <td>6</td>\n",
       "      <td>...</td>\n",
       "      <td>1</td>\n",
       "      <td>0</td>\n",
       "      <td>0</td>\n",
       "      <td>0</td>\n",
       "      <td>0</td>\n",
       "      <td>1</td>\n",
       "      <td>0</td>\n",
       "      <td>Spain</td>\n",
       "      <td>0</td>\n",
       "      <td>11</td>\n",
       "    </tr>\n",
       "  </tbody>\n",
       "</table>\n",
       "<p>5 rows × 30 columns</p>\n",
       "</div>"
      ],
      "text/plain": [
       "      ID  Year_Birth   Education Marital_Status   Income  Kidhome  Teenhome  \\\n",
       "0   1826        1970  Graduation       Divorced  84835.0        0         0   \n",
       "1      1        1961  Graduation         Single  57091.0        0         0   \n",
       "2  10476        1958  Graduation        Married  67267.0        0         1   \n",
       "3   1386        1967  Graduation       Together  32474.0        1         1   \n",
       "4   5371        1989  Graduation         Single  21474.0        1         0   \n",
       "\n",
       "  Dt_Customer  Recency  MntWines  ...  AcceptedCmp3  AcceptedCmp4  \\\n",
       "0  16-06-2014        0       189  ...             0             0   \n",
       "1  15-06-2014        0       464  ...             0             0   \n",
       "2  13-05-2014        0       134  ...             0             0   \n",
       "3  11-05-2014        0        10  ...             0             0   \n",
       "4  08-04-2014        0         6  ...             1             0   \n",
       "\n",
       "   AcceptedCmp5  AcceptedCmp1  AcceptedCmp2  Response  Complain    Country  \\\n",
       "0             0             0             0         1         0      Spain   \n",
       "1             0             0             1         1         0     Canada   \n",
       "2             0             0             0         0         0        USA   \n",
       "3             0             0             0         0         0  Australia   \n",
       "4             0             0             0         1         0      Spain   \n",
       "\n",
       "   HighWebPurchase  age  \n",
       "0                0   30  \n",
       "1                1   39  \n",
       "2                0   42  \n",
       "3                0   33  \n",
       "4                0   11  \n",
       "\n",
       "[5 rows x 30 columns]"
      ]
     },
     "execution_count": 19,
     "metadata": {},
     "output_type": "execute_result"
    }
   ],
   "source": [
    "# from datetime import date\n",
    "# today= date.today()\n",
    "# MarketingData[age]=today.year-10-MarketingData['Year_Birth']\n",
    "MarketingData['age']=(2000-MarketingData['Year_Birth'])\n",
    "MarketingData.head()"
   ]
  },
  {
   "cell_type": "code",
   "execution_count": 20,
   "id": "297c458e",
   "metadata": {},
   "outputs": [
    {
     "data": {
      "text/plain": [
       "107"
      ]
     },
     "execution_count": 20,
     "metadata": {},
     "output_type": "execute_result"
    }
   ],
   "source": [
    "MarketingData['age'].max()"
   ]
  },
  {
   "cell_type": "markdown",
   "id": "7de7f0a4",
   "metadata": {},
   "source": [
    "#### Feature engineering on 'Dt_Customer' column"
   ]
  },
  {
   "cell_type": "code",
   "execution_count": 21,
   "id": "0b125f44",
   "metadata": {},
   "outputs": [
    {
     "data": {
      "text/plain": [
       "str"
      ]
     },
     "execution_count": 21,
     "metadata": {},
     "output_type": "execute_result"
    }
   ],
   "source": [
    "type(MarketingData['Dt_Customer'][0])"
   ]
  },
  {
   "cell_type": "code",
   "execution_count": 22,
   "id": "3da6aff0",
   "metadata": {
    "scrolled": true
   },
   "outputs": [
    {
     "data": {
      "text/plain": [
       "0       16-06-2014\n",
       "1       15-06-2014\n",
       "2       13-05-2014\n",
       "3       11-05-2014\n",
       "4       08-04-2014\n",
       "           ...    \n",
       "2235    07-03-2013\n",
       "2236    22-01-2013\n",
       "2237    03-12-2012\n",
       "2238    29-11-2012\n",
       "2239    01-09-2012\n",
       "Name: Dt_Customer, Length: 2240, dtype: object"
      ]
     },
     "execution_count": 22,
     "metadata": {},
     "output_type": "execute_result"
    }
   ],
   "source": [
    "MarketingData['Dt_Customer']"
   ]
  },
  {
   "cell_type": "code",
   "execution_count": 23,
   "id": "04e3d3ed",
   "metadata": {},
   "outputs": [
    {
     "data": {
      "text/plain": [
       "0      2014-06-16\n",
       "1      2014-06-15\n",
       "2      2014-05-13\n",
       "3      2014-05-11\n",
       "4      2014-04-08\n",
       "          ...    \n",
       "2235   2013-03-07\n",
       "2236   2013-01-22\n",
       "2237   2012-12-03\n",
       "2238   2012-11-29\n",
       "2239   2012-09-01\n",
       "Name: Dt_Customer, Length: 2240, dtype: datetime64[ns]"
      ]
     },
     "execution_count": 23,
     "metadata": {},
     "output_type": "execute_result"
    }
   ],
   "source": [
    "# converting str column to datetime\n",
    "MarketingData['Dt_Customer']=pd.to_datetime(MarketingData['Dt_Customer'],format = '%d-%m-%Y')\n",
    "MarketingData['Dt_Customer']"
   ]
  },
  {
   "cell_type": "code",
   "execution_count": 24,
   "id": "0f86f225",
   "metadata": {},
   "outputs": [
    {
     "data": {
      "text/plain": [
       "pandas._libs.tslibs.timestamps.Timestamp"
      ]
     },
     "execution_count": 24,
     "metadata": {},
     "output_type": "execute_result"
    }
   ],
   "source": [
    "type(MarketingData['Dt_Customer'][0])"
   ]
  },
  {
   "cell_type": "code",
   "execution_count": 25,
   "id": "712b6dbd",
   "metadata": {},
   "outputs": [],
   "source": [
    "MarketingData['Yr_Customer']=MarketingData['Dt_Customer'].dt.year"
   ]
  },
  {
   "cell_type": "code",
   "execution_count": 26,
   "id": "ddfbf28b",
   "metadata": {},
   "outputs": [
    {
     "data": {
      "text/html": [
       "<div>\n",
       "<style scoped>\n",
       "    .dataframe tbody tr th:only-of-type {\n",
       "        vertical-align: middle;\n",
       "    }\n",
       "\n",
       "    .dataframe tbody tr th {\n",
       "        vertical-align: top;\n",
       "    }\n",
       "\n",
       "    .dataframe thead th {\n",
       "        text-align: right;\n",
       "    }\n",
       "</style>\n",
       "<table border=\"1\" class=\"dataframe\">\n",
       "  <thead>\n",
       "    <tr style=\"text-align: right;\">\n",
       "      <th></th>\n",
       "      <th>ID</th>\n",
       "      <th>Year_Birth</th>\n",
       "      <th>Education</th>\n",
       "      <th>Marital_Status</th>\n",
       "      <th>Income</th>\n",
       "      <th>Kidhome</th>\n",
       "      <th>Teenhome</th>\n",
       "      <th>Dt_Customer</th>\n",
       "      <th>Recency</th>\n",
       "      <th>MntWines</th>\n",
       "      <th>...</th>\n",
       "      <th>AcceptedCmp4</th>\n",
       "      <th>AcceptedCmp5</th>\n",
       "      <th>AcceptedCmp1</th>\n",
       "      <th>AcceptedCmp2</th>\n",
       "      <th>Response</th>\n",
       "      <th>Complain</th>\n",
       "      <th>Country</th>\n",
       "      <th>HighWebPurchase</th>\n",
       "      <th>age</th>\n",
       "      <th>Yr_Customer</th>\n",
       "    </tr>\n",
       "  </thead>\n",
       "  <tbody>\n",
       "    <tr>\n",
       "      <th>0</th>\n",
       "      <td>1826</td>\n",
       "      <td>1970</td>\n",
       "      <td>Graduation</td>\n",
       "      <td>Divorced</td>\n",
       "      <td>84835.0</td>\n",
       "      <td>0</td>\n",
       "      <td>0</td>\n",
       "      <td>2014-06-16</td>\n",
       "      <td>0</td>\n",
       "      <td>189</td>\n",
       "      <td>...</td>\n",
       "      <td>0</td>\n",
       "      <td>0</td>\n",
       "      <td>0</td>\n",
       "      <td>0</td>\n",
       "      <td>1</td>\n",
       "      <td>0</td>\n",
       "      <td>Spain</td>\n",
       "      <td>0</td>\n",
       "      <td>30</td>\n",
       "      <td>2014</td>\n",
       "    </tr>\n",
       "    <tr>\n",
       "      <th>1</th>\n",
       "      <td>1</td>\n",
       "      <td>1961</td>\n",
       "      <td>Graduation</td>\n",
       "      <td>Single</td>\n",
       "      <td>57091.0</td>\n",
       "      <td>0</td>\n",
       "      <td>0</td>\n",
       "      <td>2014-06-15</td>\n",
       "      <td>0</td>\n",
       "      <td>464</td>\n",
       "      <td>...</td>\n",
       "      <td>0</td>\n",
       "      <td>0</td>\n",
       "      <td>0</td>\n",
       "      <td>1</td>\n",
       "      <td>1</td>\n",
       "      <td>0</td>\n",
       "      <td>Canada</td>\n",
       "      <td>1</td>\n",
       "      <td>39</td>\n",
       "      <td>2014</td>\n",
       "    </tr>\n",
       "    <tr>\n",
       "      <th>2</th>\n",
       "      <td>10476</td>\n",
       "      <td>1958</td>\n",
       "      <td>Graduation</td>\n",
       "      <td>Married</td>\n",
       "      <td>67267.0</td>\n",
       "      <td>0</td>\n",
       "      <td>1</td>\n",
       "      <td>2014-05-13</td>\n",
       "      <td>0</td>\n",
       "      <td>134</td>\n",
       "      <td>...</td>\n",
       "      <td>0</td>\n",
       "      <td>0</td>\n",
       "      <td>0</td>\n",
       "      <td>0</td>\n",
       "      <td>0</td>\n",
       "      <td>0</td>\n",
       "      <td>USA</td>\n",
       "      <td>0</td>\n",
       "      <td>42</td>\n",
       "      <td>2014</td>\n",
       "    </tr>\n",
       "    <tr>\n",
       "      <th>3</th>\n",
       "      <td>1386</td>\n",
       "      <td>1967</td>\n",
       "      <td>Graduation</td>\n",
       "      <td>Together</td>\n",
       "      <td>32474.0</td>\n",
       "      <td>1</td>\n",
       "      <td>1</td>\n",
       "      <td>2014-05-11</td>\n",
       "      <td>0</td>\n",
       "      <td>10</td>\n",
       "      <td>...</td>\n",
       "      <td>0</td>\n",
       "      <td>0</td>\n",
       "      <td>0</td>\n",
       "      <td>0</td>\n",
       "      <td>0</td>\n",
       "      <td>0</td>\n",
       "      <td>Australia</td>\n",
       "      <td>0</td>\n",
       "      <td>33</td>\n",
       "      <td>2014</td>\n",
       "    </tr>\n",
       "    <tr>\n",
       "      <th>4</th>\n",
       "      <td>5371</td>\n",
       "      <td>1989</td>\n",
       "      <td>Graduation</td>\n",
       "      <td>Single</td>\n",
       "      <td>21474.0</td>\n",
       "      <td>1</td>\n",
       "      <td>0</td>\n",
       "      <td>2014-04-08</td>\n",
       "      <td>0</td>\n",
       "      <td>6</td>\n",
       "      <td>...</td>\n",
       "      <td>0</td>\n",
       "      <td>0</td>\n",
       "      <td>0</td>\n",
       "      <td>0</td>\n",
       "      <td>1</td>\n",
       "      <td>0</td>\n",
       "      <td>Spain</td>\n",
       "      <td>0</td>\n",
       "      <td>11</td>\n",
       "      <td>2014</td>\n",
       "    </tr>\n",
       "  </tbody>\n",
       "</table>\n",
       "<p>5 rows × 31 columns</p>\n",
       "</div>"
      ],
      "text/plain": [
       "      ID  Year_Birth   Education Marital_Status   Income  Kidhome  Teenhome  \\\n",
       "0   1826        1970  Graduation       Divorced  84835.0        0         0   \n",
       "1      1        1961  Graduation         Single  57091.0        0         0   \n",
       "2  10476        1958  Graduation        Married  67267.0        0         1   \n",
       "3   1386        1967  Graduation       Together  32474.0        1         1   \n",
       "4   5371        1989  Graduation         Single  21474.0        1         0   \n",
       "\n",
       "  Dt_Customer  Recency  MntWines  ...  AcceptedCmp4  AcceptedCmp5  \\\n",
       "0  2014-06-16        0       189  ...             0             0   \n",
       "1  2014-06-15        0       464  ...             0             0   \n",
       "2  2014-05-13        0       134  ...             0             0   \n",
       "3  2014-05-11        0        10  ...             0             0   \n",
       "4  2014-04-08        0         6  ...             0             0   \n",
       "\n",
       "   AcceptedCmp1  AcceptedCmp2  Response  Complain    Country  HighWebPurchase  \\\n",
       "0             0             0         1         0      Spain                0   \n",
       "1             0             1         1         0     Canada                1   \n",
       "2             0             0         0         0        USA                0   \n",
       "3             0             0         0         0  Australia                0   \n",
       "4             0             0         1         0      Spain                0   \n",
       "\n",
       "   age  Yr_Customer  \n",
       "0   30         2014  \n",
       "1   39         2014  \n",
       "2   42         2014  \n",
       "3   33         2014  \n",
       "4   11         2014  \n",
       "\n",
       "[5 rows x 31 columns]"
      ]
     },
     "execution_count": 26,
     "metadata": {},
     "output_type": "execute_result"
    }
   ],
   "source": [
    "MarketingData.head()"
   ]
  },
  {
   "cell_type": "markdown",
   "id": "0e959de9",
   "metadata": {},
   "source": [
    "## 7. Removing useless columns from the data"
   ]
  },
  {
   "cell_type": "code",
   "execution_count": 27,
   "id": "3c32a4d7",
   "metadata": {},
   "outputs": [
    {
     "data": {
      "text/html": [
       "<div>\n",
       "<style scoped>\n",
       "    .dataframe tbody tr th:only-of-type {\n",
       "        vertical-align: middle;\n",
       "    }\n",
       "\n",
       "    .dataframe tbody tr th {\n",
       "        vertical-align: top;\n",
       "    }\n",
       "\n",
       "    .dataframe thead th {\n",
       "        text-align: right;\n",
       "    }\n",
       "</style>\n",
       "<table border=\"1\" class=\"dataframe\">\n",
       "  <thead>\n",
       "    <tr style=\"text-align: right;\">\n",
       "      <th></th>\n",
       "      <th>Education</th>\n",
       "      <th>Marital_Status</th>\n",
       "      <th>Income</th>\n",
       "      <th>Kidhome</th>\n",
       "      <th>Teenhome</th>\n",
       "      <th>Recency</th>\n",
       "      <th>MntWines</th>\n",
       "      <th>MntFruits</th>\n",
       "      <th>MntMeatProducts</th>\n",
       "      <th>MntFishProducts</th>\n",
       "      <th>...</th>\n",
       "      <th>AcceptedCmp4</th>\n",
       "      <th>AcceptedCmp5</th>\n",
       "      <th>AcceptedCmp1</th>\n",
       "      <th>AcceptedCmp2</th>\n",
       "      <th>Response</th>\n",
       "      <th>Complain</th>\n",
       "      <th>Country</th>\n",
       "      <th>HighWebPurchase</th>\n",
       "      <th>age</th>\n",
       "      <th>Yr_Customer</th>\n",
       "    </tr>\n",
       "  </thead>\n",
       "  <tbody>\n",
       "    <tr>\n",
       "      <th>0</th>\n",
       "      <td>Graduation</td>\n",
       "      <td>Divorced</td>\n",
       "      <td>84835.0</td>\n",
       "      <td>0</td>\n",
       "      <td>0</td>\n",
       "      <td>0</td>\n",
       "      <td>189</td>\n",
       "      <td>104</td>\n",
       "      <td>379</td>\n",
       "      <td>111</td>\n",
       "      <td>...</td>\n",
       "      <td>0</td>\n",
       "      <td>0</td>\n",
       "      <td>0</td>\n",
       "      <td>0</td>\n",
       "      <td>1</td>\n",
       "      <td>0</td>\n",
       "      <td>Spain</td>\n",
       "      <td>0</td>\n",
       "      <td>30</td>\n",
       "      <td>2014</td>\n",
       "    </tr>\n",
       "    <tr>\n",
       "      <th>1</th>\n",
       "      <td>Graduation</td>\n",
       "      <td>Single</td>\n",
       "      <td>57091.0</td>\n",
       "      <td>0</td>\n",
       "      <td>0</td>\n",
       "      <td>0</td>\n",
       "      <td>464</td>\n",
       "      <td>5</td>\n",
       "      <td>64</td>\n",
       "      <td>7</td>\n",
       "      <td>...</td>\n",
       "      <td>0</td>\n",
       "      <td>0</td>\n",
       "      <td>0</td>\n",
       "      <td>1</td>\n",
       "      <td>1</td>\n",
       "      <td>0</td>\n",
       "      <td>Canada</td>\n",
       "      <td>1</td>\n",
       "      <td>39</td>\n",
       "      <td>2014</td>\n",
       "    </tr>\n",
       "    <tr>\n",
       "      <th>2</th>\n",
       "      <td>Graduation</td>\n",
       "      <td>Married</td>\n",
       "      <td>67267.0</td>\n",
       "      <td>0</td>\n",
       "      <td>1</td>\n",
       "      <td>0</td>\n",
       "      <td>134</td>\n",
       "      <td>11</td>\n",
       "      <td>59</td>\n",
       "      <td>15</td>\n",
       "      <td>...</td>\n",
       "      <td>0</td>\n",
       "      <td>0</td>\n",
       "      <td>0</td>\n",
       "      <td>0</td>\n",
       "      <td>0</td>\n",
       "      <td>0</td>\n",
       "      <td>USA</td>\n",
       "      <td>0</td>\n",
       "      <td>42</td>\n",
       "      <td>2014</td>\n",
       "    </tr>\n",
       "    <tr>\n",
       "      <th>3</th>\n",
       "      <td>Graduation</td>\n",
       "      <td>Together</td>\n",
       "      <td>32474.0</td>\n",
       "      <td>1</td>\n",
       "      <td>1</td>\n",
       "      <td>0</td>\n",
       "      <td>10</td>\n",
       "      <td>0</td>\n",
       "      <td>1</td>\n",
       "      <td>0</td>\n",
       "      <td>...</td>\n",
       "      <td>0</td>\n",
       "      <td>0</td>\n",
       "      <td>0</td>\n",
       "      <td>0</td>\n",
       "      <td>0</td>\n",
       "      <td>0</td>\n",
       "      <td>Australia</td>\n",
       "      <td>0</td>\n",
       "      <td>33</td>\n",
       "      <td>2014</td>\n",
       "    </tr>\n",
       "    <tr>\n",
       "      <th>4</th>\n",
       "      <td>Graduation</td>\n",
       "      <td>Single</td>\n",
       "      <td>21474.0</td>\n",
       "      <td>1</td>\n",
       "      <td>0</td>\n",
       "      <td>0</td>\n",
       "      <td>6</td>\n",
       "      <td>16</td>\n",
       "      <td>24</td>\n",
       "      <td>11</td>\n",
       "      <td>...</td>\n",
       "      <td>0</td>\n",
       "      <td>0</td>\n",
       "      <td>0</td>\n",
       "      <td>0</td>\n",
       "      <td>1</td>\n",
       "      <td>0</td>\n",
       "      <td>Spain</td>\n",
       "      <td>0</td>\n",
       "      <td>11</td>\n",
       "      <td>2014</td>\n",
       "    </tr>\n",
       "  </tbody>\n",
       "</table>\n",
       "<p>5 rows × 27 columns</p>\n",
       "</div>"
      ],
      "text/plain": [
       "    Education Marital_Status   Income  Kidhome  Teenhome  Recency  MntWines  \\\n",
       "0  Graduation       Divorced  84835.0        0         0        0       189   \n",
       "1  Graduation         Single  57091.0        0         0        0       464   \n",
       "2  Graduation        Married  67267.0        0         1        0       134   \n",
       "3  Graduation       Together  32474.0        1         1        0        10   \n",
       "4  Graduation         Single  21474.0        1         0        0         6   \n",
       "\n",
       "   MntFruits  MntMeatProducts  MntFishProducts  ...  AcceptedCmp4  \\\n",
       "0        104              379              111  ...             0   \n",
       "1          5               64                7  ...             0   \n",
       "2         11               59               15  ...             0   \n",
       "3          0                1                0  ...             0   \n",
       "4         16               24               11  ...             0   \n",
       "\n",
       "   AcceptedCmp5  AcceptedCmp1  AcceptedCmp2  Response  Complain    Country  \\\n",
       "0             0             0             0         1         0      Spain   \n",
       "1             0             0             1         1         0     Canada   \n",
       "2             0             0             0         0         0        USA   \n",
       "3             0             0             0         0         0  Australia   \n",
       "4             0             0             0         1         0      Spain   \n",
       "\n",
       "   HighWebPurchase  age  Yr_Customer  \n",
       "0                0   30         2014  \n",
       "1                1   39         2014  \n",
       "2                0   42         2014  \n",
       "3                0   33         2014  \n",
       "4                0   11         2014  \n",
       "\n",
       "[5 rows x 27 columns]"
      ]
     },
     "execution_count": 27,
     "metadata": {},
     "output_type": "execute_result"
    }
   ],
   "source": [
    "# Deleting those columns which are not useful in predictive analysis because these variables are qualitative\n",
    "UselessColumns = ['ID', 'Year_Birth','Dt_Customer', 'NumWebPurchases']\n",
    "MarketingData = MarketingData.drop(UselessColumns,axis=1)\n",
    "MarketingData.head()"
   ]
  },
  {
   "cell_type": "code",
   "execution_count": 28,
   "id": "fd335aab",
   "metadata": {},
   "outputs": [
    {
     "data": {
      "text/plain": [
       "Index(['Education', 'Marital_Status', 'Income', 'Kidhome', 'Teenhome',\n",
       "       'Recency', 'MntWines', 'MntFruits', 'MntMeatProducts',\n",
       "       'MntFishProducts', 'MntSweetProducts', 'MntGoldProds',\n",
       "       'NumDealsPurchases', 'NumCatalogPurchases', 'NumStorePurchases',\n",
       "       'NumWebVisitsMonth', 'AcceptedCmp3', 'AcceptedCmp4', 'AcceptedCmp5',\n",
       "       'AcceptedCmp1', 'AcceptedCmp2', 'Response', 'Complain', 'Country',\n",
       "       'HighWebPurchase', 'age', 'Yr_Customer'],\n",
       "      dtype='object')"
      ]
     },
     "execution_count": 28,
     "metadata": {},
     "output_type": "execute_result"
    }
   ],
   "source": [
    "MarketingData.columns"
   ]
  },
  {
   "cell_type": "markdown",
   "id": "c0a0bdc6",
   "metadata": {},
   "source": [
    "## 8. Visual Exploratory Data Analysis\n",
    "* Categorical variables: Bar plot\n",
    "* Continuous variables: Histogram"
   ]
  },
  {
   "cell_type": "markdown",
   "id": "32103018",
   "metadata": {},
   "source": [
    "#### Visualize distribution of all the Categorical Predictor variables in the data using bar plots"
   ]
  },
  {
   "cell_type": "markdown",
   "id": "e7cfcbaa",
   "metadata": {},
   "source": [
    "* <b>Categorical Predictors</b>: 'Education','Marital_Status','Kidhome','Teenhome','AcceptedCmp3','AcceptedCmp4', 'AcceptedCmp5', 'AcceptedCmp1', 'AcceptedCmp2', 'Response', 'Country', 'Yr_Customer', 'Complain'\n"
   ]
  },
  {
   "cell_type": "code",
   "execution_count": 29,
   "id": "af572f3f",
   "metadata": {},
   "outputs": [],
   "source": [
    "# Plotting multiple bar charts at once for categorical variables\n",
    "# Since there is no default function which can plot bar charts for multiple columns at once\n",
    "# we are defining our own function for the same\n",
    "\n",
    "def PlotBarCharts(inpData, colsToPlot):\n",
    "    %matplotlib inline\n",
    "    \n",
    "    import matplotlib.pyplot as plt\n",
    "    \n",
    "    # Generating multiple subplots\n",
    "    fig, subPlot=plt.subplots(nrows=1, ncols=len(colsToPlot), figsize=(20,5))\n",
    "    fig.suptitle('Bar charts of: '+ str(colsToPlot))\n",
    "\n",
    "    for colName, plotNumber in zip(colsToPlot, range(len(colsToPlot))):\n",
    "        inpData.groupby(colName).size().plot(kind='bar',ax=subPlot[plotNumber])"
   ]
  },
  {
   "cell_type": "code",
   "execution_count": 30,
   "id": "2a54276d",
   "metadata": {},
   "outputs": [
    {
     "data": {
      "image/png": "[encoded data removed]",
      "text/plain": [
       "<Figure size 1440x360 with 4 Axes>"
      ]
     },
     "metadata": {
      "needs_background": "light"
     },
     "output_type": "display_data"
    }
   ],
   "source": [
    "# Calling the function\n",
    "PlotBarCharts(inpData=MarketingData, colsToPlot=['Education','Marital_Status','Kidhome','Teenhome'])"
   ]
  },
  {
   "cell_type": "code",
   "execution_count": 31,
   "id": "7fefb19b",
   "metadata": {},
   "outputs": [
    {
     "data": {
      "image/png": "[encoded data removed]",
      "text/plain": [
       "<Figure size 1440x360 with 6 Axes>"
      ]
     },
     "metadata": {
      "needs_background": "light"
     },
     "output_type": "display_data"
    }
   ],
   "source": [
    "# Calling the function\n",
    "PlotBarCharts(inpData=MarketingData, colsToPlot=['AcceptedCmp3','AcceptedCmp4', 'AcceptedCmp5', 'AcceptedCmp1', 'AcceptedCmp2', 'Response'])"
   ]
  },
  {
   "cell_type": "code",
   "execution_count": 32,
   "id": "fab6f912",
   "metadata": {},
   "outputs": [
    {
     "data": {
      "image/png": "[encoded data removed]",
      "text/plain": [
       "<Figure size 1440x360 with 3 Axes>"
      ]
     },
     "metadata": {
      "needs_background": "light"
     },
     "output_type": "display_data"
    }
   ],
   "source": [
    "# Calling the function\n",
    "PlotBarCharts(inpData=MarketingData, colsToPlot=['Country', 'Yr_Customer','Complain'])\n"
   ]
  },
  {
   "cell_type": "markdown",
   "id": "ae23fd03",
   "metadata": {},
   "source": [
    "#### Bar Charts Interpretation"
   ]
  },
  {
   "cell_type": "markdown",
   "id": "bf369094",
   "metadata": {},
   "source": [
    "#### Visualize distribution of all the Continuous Predictor variables in the data using histograms\n",
    "Based on the Basic Data Exploration, fifteen continuous predictor variables.\n",
    "\n",
    "* <b>Continuous Predictors</b>:\n",
    "'Income','Recency', 'MntWines', 'MntFruits', 'MntMeatProducts','MntFishProducts', 'MntSweetProducts', 'MntGoldProds',     'NumDealsPurchases', 'NumCatalogPurchases','NumStorePurchases', 'NumWebVisitsMonth', 'age'"
   ]
  },
  {
   "cell_type": "code",
   "execution_count": 33,
   "id": "104f285e",
   "metadata": {},
   "outputs": [
    {
     "data": {
      "text/plain": [
       "array([[<AxesSubplot:title={'center':'MntWines'}>,\n",
       "        <AxesSubplot:title={'center':'MntFruits'}>],\n",
       "       [<AxesSubplot:title={'center':'MntMeatProducts'}>,\n",
       "        <AxesSubplot:title={'center':'MntFishProducts'}>],\n",
       "       [<AxesSubplot:title={'center':'MntSweetProducts'}>,\n",
       "        <AxesSubplot:title={'center':'MntGoldProds'}>]], dtype=object)"
      ]
     },
     "execution_count": 33,
     "metadata": {},
     "output_type": "execute_result"
    },
    {
     "data": {
      "image/png": "[encoded data removed]",
      "text/plain": [
       "<Figure size 1296x720 with 6 Axes>"
      ]
     },
     "metadata": {
      "needs_background": "light"
     },
     "output_type": "display_data"
    }
   ],
   "source": [
    "# Plotting histograms of multiple columns together\n",
    "MarketingData.hist([ 'MntWines', 'MntFruits', 'MntMeatProducts','MntFishProducts', 'MntSweetProducts', 'MntGoldProds'], figsize=(18,10))"
   ]
  },
  {
   "cell_type": "code",
   "execution_count": 34,
   "id": "b51b8c66",
   "metadata": {},
   "outputs": [
    {
     "data": {
      "text/plain": [
       "array([[<AxesSubplot:title={'center':'Income'}>,\n",
       "        <AxesSubplot:title={'center':'Recency'}>],\n",
       "       [<AxesSubplot:title={'center':'age'}>, <AxesSubplot:>]],\n",
       "      dtype=object)"
      ]
     },
     "execution_count": 34,
     "metadata": {},
     "output_type": "execute_result"
    },
    {
     "data": {
      "image/png": "[encoded data removed]",
      "text/plain": [
       "<Figure size 1296x720 with 4 Axes>"
      ]
     },
     "metadata": {
      "needs_background": "light"
     },
     "output_type": "display_data"
    }
   ],
   "source": [
    "MarketingData.hist(['Income','Recency', 'age'], figsize=(18,10))"
   ]
  },
  {
   "cell_type": "code",
   "execution_count": 35,
   "id": "8935e779",
   "metadata": {},
   "outputs": [
    {
     "data": {
      "text/plain": [
       "array([[<AxesSubplot:title={'center':'NumDealsPurchases'}>,\n",
       "        <AxesSubplot:title={'center':'NumCatalogPurchases'}>],\n",
       "       [<AxesSubplot:title={'center':'NumStorePurchases'}>,\n",
       "        <AxesSubplot:title={'center':'NumWebVisitsMonth'}>]], dtype=object)"
      ]
     },
     "execution_count": 35,
     "metadata": {},
     "output_type": "execute_result"
    },
    {
     "data": {
      "image/png": "[encoded data removed]",
      "text/plain": [
       "<Figure size 1296x720 with 4 Axes>"
      ]
     },
     "metadata": {
      "needs_background": "light"
     },
     "output_type": "display_data"
    }
   ],
   "source": [
    "MarketingData.hist(['NumDealsPurchases', 'NumCatalogPurchases','NumStorePurchases', 'NumWebVisitsMonth'], figsize=(18,10))"
   ]
  },
  {
   "cell_type": "markdown",
   "id": "7a8a213f",
   "metadata": {},
   "source": [
    "#### Histogram Interpretation"
   ]
  },
  {
   "cell_type": "markdown",
   "id": "80da2941",
   "metadata": {},
   "source": [
    "## 9. Outlier treatment"
   ]
  },
  {
   "cell_type": "markdown",
   "id": "3cea2cea",
   "metadata": {},
   "source": [
    "#### Replacing outliers for 'Income'"
   ]
  },
  {
   "cell_type": "code",
   "execution_count": 36,
   "id": "f10de151",
   "metadata": {},
   "outputs": [
    {
     "data": {
      "text/plain": [
       "731     162397.0\n",
       "497     160803.0\n",
       "853     157733.0\n",
       "2204    157243.0\n",
       "325     157146.0\n",
       "          ...   \n",
       "14        4428.0\n",
       "663       4023.0\n",
       "1291      3502.0\n",
       "961       2447.0\n",
       "1466      1730.0\n",
       "Name: Income, Length: 2215, dtype: float64"
      ]
     },
     "execution_count": 36,
     "metadata": {},
     "output_type": "execute_result"
    }
   ],
   "source": [
    "# Finding nearest values to 200000 mark\n",
    "MarketingData['Income'][MarketingData['Income']<200000].sort_values(ascending=False)"
   ]
  },
  {
   "cell_type": "markdown",
   "id": "59a9446e",
   "metadata": {},
   "source": [
    "Above result shows the nearest logical value is 162397, hence, replacing any value above 200000 with it."
   ]
  },
  {
   "cell_type": "code",
   "execution_count": 37,
   "id": "ecc1b072",
   "metadata": {},
   "outputs": [],
   "source": [
    "# Replacing outliers with nearest possibe value\n",
    "MarketingData['Income'][MarketingData['Income']>200000] =162397"
   ]
  },
  {
   "cell_type": "markdown",
   "id": "0548639a",
   "metadata": {},
   "source": [
    "#### Replacing outliers for 'Age'"
   ]
  },
  {
   "cell_type": "code",
   "execution_count": 38,
   "id": "f7424b22",
   "metadata": {},
   "outputs": [
    {
     "data": {
      "text/plain": [
       "2171    60\n",
       "1740    59\n",
       "1693    57\n",
       "1208    57\n",
       "1475    57\n",
       "        ..\n",
       "697      5\n",
       "1298     5\n",
       "1467     5\n",
       "562      4\n",
       "1824     4\n",
       "Name: age, Length: 2237, dtype: int64"
      ]
     },
     "execution_count": 38,
     "metadata": {},
     "output_type": "execute_result"
    }
   ],
   "source": [
    "# Finding nearest values to 70 mark\n",
    "MarketingData['age'][MarketingData['age']<70].sort_values(ascending=False)"
   ]
  },
  {
   "cell_type": "code",
   "execution_count": 39,
   "id": "ed6f7344",
   "metadata": {},
   "outputs": [],
   "source": [
    "# Replacing outliers with nearest possibe value\n",
    "MarketingData['age'][MarketingData['age']>70] =60"
   ]
  },
  {
   "cell_type": "markdown",
   "id": "4f70a535",
   "metadata": {},
   "source": [
    "#### Visualizing distribution after outlier treatment"
   ]
  },
  {
   "cell_type": "code",
   "execution_count": 40,
   "id": "e4b033de",
   "metadata": {},
   "outputs": [
    {
     "data": {
      "text/plain": [
       "array([[<AxesSubplot:title={'center':'Income'}>,\n",
       "        <AxesSubplot:title={'center':'Recency'}>],\n",
       "       [<AxesSubplot:title={'center':'age'}>, <AxesSubplot:>]],\n",
       "      dtype=object)"
      ]
     },
     "execution_count": 40,
     "metadata": {},
     "output_type": "execute_result"
    },
    {
     "data": {
      "image/png": "[encoded data removed]",
      "text/plain": [
       "<Figure size 1296x720 with 4 Axes>"
      ]
     },
     "metadata": {
      "needs_background": "light"
     },
     "output_type": "display_data"
    }
   ],
   "source": [
    "MarketingData.hist(['Income','Recency', 'age'], figsize=(18,10))"
   ]
  },
  {
   "cell_type": "markdown",
   "id": "371cb601",
   "metadata": {},
   "source": [
    "## 10. Missing values treatment"
   ]
  },
  {
   "cell_type": "code",
   "execution_count": 41,
   "id": "da988411",
   "metadata": {},
   "outputs": [
    {
     "data": {
      "text/plain": [
       "Education               0\n",
       "Marital_Status          0\n",
       "Income                 24\n",
       "Kidhome                 0\n",
       "Teenhome                0\n",
       "Recency                 0\n",
       "MntWines                0\n",
       "MntFruits               0\n",
       "MntMeatProducts         0\n",
       "MntFishProducts         0\n",
       "MntSweetProducts        0\n",
       "MntGoldProds            0\n",
       "NumDealsPurchases       0\n",
       "NumCatalogPurchases     0\n",
       "NumStorePurchases       0\n",
       "NumWebVisitsMonth       0\n",
       "AcceptedCmp3            0\n",
       "AcceptedCmp4            0\n",
       "AcceptedCmp5            0\n",
       "AcceptedCmp1            0\n",
       "AcceptedCmp2            0\n",
       "Response                0\n",
       "Complain                0\n",
       "Country                 0\n",
       "HighWebPurchase         0\n",
       "age                     0\n",
       "Yr_Customer             0\n",
       "dtype: int64"
      ]
     },
     "execution_count": 41,
     "metadata": {},
     "output_type": "execute_result"
    }
   ],
   "source": [
    "# Finding how many missing values are there for each column\n",
    "MarketingData.isnull().sum()"
   ]
  },
  {
   "cell_type": "code",
   "execution_count": 42,
   "id": "311ea9aa",
   "metadata": {},
   "outputs": [],
   "source": [
    "#Check the rows where data is missing\n",
    "IncomeMissing=MarketingData['Income'].isnull()"
   ]
  },
  {
   "cell_type": "code",
   "execution_count": 43,
   "id": "47d8c599",
   "metadata": {},
   "outputs": [
    {
     "data": {
      "text/html": [
       "<div>\n",
       "<style scoped>\n",
       "    .dataframe tbody tr th:only-of-type {\n",
       "        vertical-align: middle;\n",
       "    }\n",
       "\n",
       "    .dataframe tbody tr th {\n",
       "        vertical-align: top;\n",
       "    }\n",
       "\n",
       "    .dataframe thead th {\n",
       "        text-align: right;\n",
       "    }\n",
       "</style>\n",
       "<table border=\"1\" class=\"dataframe\">\n",
       "  <thead>\n",
       "    <tr style=\"text-align: right;\">\n",
       "      <th></th>\n",
       "      <th>Education</th>\n",
       "      <th>Marital_Status</th>\n",
       "      <th>Income</th>\n",
       "      <th>Kidhome</th>\n",
       "      <th>Teenhome</th>\n",
       "      <th>Recency</th>\n",
       "      <th>MntWines</th>\n",
       "      <th>MntFruits</th>\n",
       "      <th>MntMeatProducts</th>\n",
       "      <th>MntFishProducts</th>\n",
       "      <th>...</th>\n",
       "      <th>AcceptedCmp4</th>\n",
       "      <th>AcceptedCmp5</th>\n",
       "      <th>AcceptedCmp1</th>\n",
       "      <th>AcceptedCmp2</th>\n",
       "      <th>Response</th>\n",
       "      <th>Complain</th>\n",
       "      <th>Country</th>\n",
       "      <th>HighWebPurchase</th>\n",
       "      <th>age</th>\n",
       "      <th>Yr_Customer</th>\n",
       "    </tr>\n",
       "  </thead>\n",
       "  <tbody>\n",
       "    <tr>\n",
       "      <th>134</th>\n",
       "      <td>PhD</td>\n",
       "      <td>Married</td>\n",
       "      <td>NaN</td>\n",
       "      <td>2</td>\n",
       "      <td>1</td>\n",
       "      <td>4</td>\n",
       "      <td>230</td>\n",
       "      <td>42</td>\n",
       "      <td>192</td>\n",
       "      <td>49</td>\n",
       "      <td>...</td>\n",
       "      <td>0</td>\n",
       "      <td>0</td>\n",
       "      <td>0</td>\n",
       "      <td>0</td>\n",
       "      <td>0</td>\n",
       "      <td>0</td>\n",
       "      <td>Germany</td>\n",
       "      <td>1</td>\n",
       "      <td>43</td>\n",
       "      <td>2012</td>\n",
       "    </tr>\n",
       "    <tr>\n",
       "      <th>262</th>\n",
       "      <td>Graduation</td>\n",
       "      <td>Married</td>\n",
       "      <td>NaN</td>\n",
       "      <td>1</td>\n",
       "      <td>0</td>\n",
       "      <td>11</td>\n",
       "      <td>5</td>\n",
       "      <td>5</td>\n",
       "      <td>6</td>\n",
       "      <td>0</td>\n",
       "      <td>...</td>\n",
       "      <td>0</td>\n",
       "      <td>0</td>\n",
       "      <td>0</td>\n",
       "      <td>0</td>\n",
       "      <td>0</td>\n",
       "      <td>0</td>\n",
       "      <td>USA</td>\n",
       "      <td>0</td>\n",
       "      <td>17</td>\n",
       "      <td>2013</td>\n",
       "    </tr>\n",
       "    <tr>\n",
       "      <th>394</th>\n",
       "      <td>PhD</td>\n",
       "      <td>Together</td>\n",
       "      <td>NaN</td>\n",
       "      <td>1</td>\n",
       "      <td>0</td>\n",
       "      <td>17</td>\n",
       "      <td>25</td>\n",
       "      <td>1</td>\n",
       "      <td>13</td>\n",
       "      <td>0</td>\n",
       "      <td>...</td>\n",
       "      <td>0</td>\n",
       "      <td>0</td>\n",
       "      <td>0</td>\n",
       "      <td>0</td>\n",
       "      <td>0</td>\n",
       "      <td>0</td>\n",
       "      <td>Australia</td>\n",
       "      <td>0</td>\n",
       "      <td>28</td>\n",
       "      <td>2014</td>\n",
       "    </tr>\n",
       "    <tr>\n",
       "      <th>449</th>\n",
       "      <td>Graduation</td>\n",
       "      <td>Single</td>\n",
       "      <td>NaN</td>\n",
       "      <td>1</td>\n",
       "      <td>0</td>\n",
       "      <td>19</td>\n",
       "      <td>5</td>\n",
       "      <td>1</td>\n",
       "      <td>3</td>\n",
       "      <td>3</td>\n",
       "      <td>...</td>\n",
       "      <td>0</td>\n",
       "      <td>0</td>\n",
       "      <td>0</td>\n",
       "      <td>0</td>\n",
       "      <td>0</td>\n",
       "      <td>0</td>\n",
       "      <td>Australia</td>\n",
       "      <td>1</td>\n",
       "      <td>14</td>\n",
       "      <td>2013</td>\n",
       "    </tr>\n",
       "    <tr>\n",
       "      <th>525</th>\n",
       "      <td>PhD</td>\n",
       "      <td>Married</td>\n",
       "      <td>NaN</td>\n",
       "      <td>0</td>\n",
       "      <td>1</td>\n",
       "      <td>23</td>\n",
       "      <td>352</td>\n",
       "      <td>0</td>\n",
       "      <td>27</td>\n",
       "      <td>10</td>\n",
       "      <td>...</td>\n",
       "      <td>0</td>\n",
       "      <td>0</td>\n",
       "      <td>0</td>\n",
       "      <td>0</td>\n",
       "      <td>0</td>\n",
       "      <td>0</td>\n",
       "      <td>Canada</td>\n",
       "      <td>1</td>\n",
       "      <td>39</td>\n",
       "      <td>2013</td>\n",
       "    </tr>\n",
       "  </tbody>\n",
       "</table>\n",
       "<p>5 rows × 27 columns</p>\n",
       "</div>"
      ],
      "text/plain": [
       "      Education Marital_Status  Income  Kidhome  Teenhome  Recency  MntWines  \\\n",
       "134         PhD        Married     NaN        2         1        4       230   \n",
       "262  Graduation        Married     NaN        1         0       11         5   \n",
       "394         PhD       Together     NaN        1         0       17        25   \n",
       "449  Graduation         Single     NaN        1         0       19         5   \n",
       "525         PhD        Married     NaN        0         1       23       352   \n",
       "\n",
       "     MntFruits  MntMeatProducts  MntFishProducts  ...  AcceptedCmp4  \\\n",
       "134         42              192               49  ...             0   \n",
       "262          5                6                0  ...             0   \n",
       "394          1               13                0  ...             0   \n",
       "449          1                3                3  ...             0   \n",
       "525          0               27               10  ...             0   \n",
       "\n",
       "     AcceptedCmp5  AcceptedCmp1  AcceptedCmp2  Response  Complain    Country  \\\n",
       "134             0             0             0         0         0    Germany   \n",
       "262             0             0             0         0         0        USA   \n",
       "394             0             0             0         0         0  Australia   \n",
       "449             0             0             0         0         0  Australia   \n",
       "525             0             0             0         0         0     Canada   \n",
       "\n",
       "     HighWebPurchase  age  Yr_Customer  \n",
       "134                1   43         2012  \n",
       "262                0   17         2013  \n",
       "394                0   28         2014  \n",
       "449                1   14         2013  \n",
       "525                1   39         2013  \n",
       "\n",
       "[5 rows x 27 columns]"
      ]
     },
     "execution_count": 43,
     "metadata": {},
     "output_type": "execute_result"
    }
   ],
   "source": [
    "MarketingData[IncomeMissing].head()"
   ]
  },
  {
   "cell_type": "markdown",
   "id": "962be05d",
   "metadata": {},
   "source": [
    "##### I am treating missing values of Income with Median as it has Continuous values"
   ]
  },
  {
   "cell_type": "code",
   "execution_count": 44,
   "id": "5bc906fe",
   "metadata": {},
   "outputs": [
    {
     "data": {
      "text/plain": [
       "51381.5"
      ]
     },
     "execution_count": 44,
     "metadata": {},
     "output_type": "execute_result"
    }
   ],
   "source": [
    "MarketingData['Income'].median()"
   ]
  },
  {
   "cell_type": "code",
   "execution_count": 45,
   "id": "ccb2f242",
   "metadata": {},
   "outputs": [],
   "source": [
    "# Treating missing values of continuous variable with Median value\n",
    "MarketingData['Income'].fillna(value=MarketingData['Income'].median(), inplace=True)"
   ]
  },
  {
   "cell_type": "code",
   "execution_count": 46,
   "id": "ef75fafd",
   "metadata": {},
   "outputs": [
    {
     "data": {
      "text/plain": [
       "Education              0\n",
       "Marital_Status         0\n",
       "Income                 0\n",
       "Kidhome                0\n",
       "Teenhome               0\n",
       "Recency                0\n",
       "MntWines               0\n",
       "MntFruits              0\n",
       "MntMeatProducts        0\n",
       "MntFishProducts        0\n",
       "MntSweetProducts       0\n",
       "MntGoldProds           0\n",
       "NumDealsPurchases      0\n",
       "NumCatalogPurchases    0\n",
       "NumStorePurchases      0\n",
       "NumWebVisitsMonth      0\n",
       "AcceptedCmp3           0\n",
       "AcceptedCmp4           0\n",
       "AcceptedCmp5           0\n",
       "AcceptedCmp1           0\n",
       "AcceptedCmp2           0\n",
       "Response               0\n",
       "Complain               0\n",
       "Country                0\n",
       "HighWebPurchase        0\n",
       "age                    0\n",
       "Yr_Customer            0\n",
       "dtype: int64"
      ]
     },
     "execution_count": 46,
     "metadata": {},
     "output_type": "execute_result"
    }
   ],
   "source": [
    "MarketingData.isnull().sum()"
   ]
  },
  {
   "cell_type": "markdown",
   "id": "ea188deb",
   "metadata": {},
   "source": [
    "## 11. Feature Selection"
   ]
  },
  {
   "cell_type": "markdown",
   "id": "726d5e81",
   "metadata": {},
   "source": [
    "### Relationship exploration: Categorical Vs Continuous -- Box Plots\n",
    "When the target variable is Categorical and the predictor variable is Continuous we analyze the relation using bar plots/Boxplots and measure the strength of relation using Anova test"
   ]
  },
  {
   "cell_type": "code",
   "execution_count": 48,
   "id": "ed8e75dc",
   "metadata": {
    "scrolled": false
   },
   "outputs": [
    {
     "data": {
      "image/png": "[encoded data removed]",
      "text/plain": [
       "<Figure size 2160x720 with 13 Axes>"
      ]
     },
     "metadata": {
      "needs_background": "light"
     },
     "output_type": "display_data"
    }
   ],
   "source": [
    "# Box plots for Categorical Target Variable \"Survived\" and continuous predictors\n",
    "ContinuousColsList=['Income','Recency', 'MntWines', 'MntFruits', 'MntMeatProducts','MntFishProducts',\n",
    "                'MntSweetProducts', 'MntGoldProds', 'NumDealsPurchases', 'NumCatalogPurchases',\n",
    "                'NumStorePurchases', 'NumWebVisitsMonth', 'age']\n",
    "\n",
    "import matplotlib.pyplot as plt\n",
    "fig, PlotCanvas=plt.subplots(nrows=1, ncols=len(ContinuousColsList), figsize=(30,10))\n",
    "\n",
    "# Creating box plots for each continuous predictor against the Target Variable \"Survived\"\n",
    "for PredictorCol , i in zip(ContinuousColsList, range(len(ContinuousColsList))):\n",
    "    MarketingData.boxplot(column=PredictorCol, by='HighWebPurchase', figsize=(5,5), vert=True, ax=PlotCanvas[i])\n"
   ]
  },
  {
   "cell_type": "markdown",
   "id": "bec1704a",
   "metadata": {},
   "source": [
    "### Box-plots interpretation"
   ]
  },
  {
   "cell_type": "markdown",
   "id": "e7b1014d",
   "metadata": {},
   "source": [
    "### Statistical Feature Selection (Categorical Vs Continuous) using ANOVA test\n",
    "Analysis of variance(ANOVA) is performed to check if there is any relationship between the given continuous and categorical variable\n",
    "\n",
    "Assumption(H0): There is NO relation between the given variables (i.e. The average(mean) values of the numeric Predictor variable is same for all the groups in the categorical Target variable)\n",
    "ANOVA Test result: Probability of H0 being true"
   ]
  },
  {
   "cell_type": "code",
   "execution_count": 49,
   "id": "0ff047b7",
   "metadata": {},
   "outputs": [],
   "source": [
    "# Defining a function to find the statistical relationship with all the categorical variables\n",
    "def FunctionAnova(inpData, TargetVariable, ContinuousPredictorList):\n",
    "    from scipy.stats import f_oneway\n",
    "\n",
    "    # Creating an empty list of final selected predictors\n",
    "    SelectedPredictors=[]\n",
    "    \n",
    "    print('##### ANOVA Results ##### \\n')\n",
    "    for predictor in ContinuousPredictorList:\n",
    "        CategoryGroupLists=inpData.groupby(TargetVariable)[predictor].apply(list)\n",
    "        AnovaResults = f_oneway(*CategoryGroupLists)\n",
    "        \n",
    "        # If the ANOVA P-Value is <0.05, that means we reject H0\n",
    "        if (AnovaResults[1] < 0.05):\n",
    "            print(predictor, 'is correlated with', TargetVariable, '| P-Value:', AnovaResults[1])\n",
    "            SelectedPredictors.append(predictor)\n",
    "        else:\n",
    "            print(predictor, 'is NOT correlated with', TargetVariable, '| P-Value:', AnovaResults[1])\n",
    "    \n",
    "    return(SelectedPredictors)"
   ]
  },
  {
   "cell_type": "code",
   "execution_count": 50,
   "id": "c2858217",
   "metadata": {},
   "outputs": [
    {
     "name": "stdout",
     "output_type": "stream",
     "text": [
      "##### ANOVA Results ##### \n",
      "\n",
      "Income is correlated with HighWebPurchase | P-Value: 1.2461948616653211e-96\n",
      "Recency is NOT correlated with HighWebPurchase | P-Value: 0.2718173679645654\n",
      "MntWines is correlated with HighWebPurchase | P-Value: 3.0596067401269777e-139\n",
      "MntFruits is correlated with HighWebPurchase | P-Value: 1.876977305435511e-40\n",
      "MntMeatProducts is correlated with HighWebPurchase | P-Value: 6.6057128679852505e-47\n",
      "MntFishProducts is correlated with HighWebPurchase | P-Value: 2.3274083312240398e-37\n",
      "MntSweetProducts is correlated with HighWebPurchase | P-Value: 1.162312552443445e-46\n",
      "MntGoldProds is correlated with HighWebPurchase | P-Value: 1.730110190881204e-63\n",
      "NumDealsPurchases is correlated with HighWebPurchase | P-Value: 2.1167129109872713e-23\n",
      "NumCatalogPurchases is correlated with HighWebPurchase | P-Value: 8.90903857290123e-75\n",
      "NumStorePurchases is correlated with HighWebPurchase | P-Value: 6.387057272780662e-129\n",
      "NumWebVisitsMonth is NOT correlated with HighWebPurchase | P-Value: 0.07146568021836955\n",
      "age is correlated with HighWebPurchase | P-Value: 4.298329525127703e-12\n"
     ]
    },
    {
     "data": {
      "text/plain": [
       "['Income',\n",
       " 'MntWines',\n",
       " 'MntFruits',\n",
       " 'MntMeatProducts',\n",
       " 'MntFishProducts',\n",
       " 'MntSweetProducts',\n",
       " 'MntGoldProds',\n",
       " 'NumDealsPurchases',\n",
       " 'NumCatalogPurchases',\n",
       " 'NumStorePurchases',\n",
       " 'age']"
      ]
     },
     "execution_count": 50,
     "metadata": {},
     "output_type": "execute_result"
    }
   ],
   "source": [
    "# Calling the function to check which categorical variables are correlated with target\n",
    "ContinuousVariables=['Income','Recency', 'MntWines', 'MntFruits', 'MntMeatProducts','MntFishProducts',\n",
    "                'MntSweetProducts', 'MntGoldProds', 'NumDealsPurchases', 'NumCatalogPurchases',\n",
    "                'NumStorePurchases', 'NumWebVisitsMonth', 'age']\n",
    "FunctionAnova(inpData=MarketingData, TargetVariable='HighWebPurchase', ContinuousPredictorList=ContinuousVariables)"
   ]
  },
  {
   "cell_type": "code",
   "execution_count": null,
   "id": "036dc8df",
   "metadata": {},
   "outputs": [],
   "source": []
  },
  {
   "cell_type": "markdown",
   "id": "6b466e3c",
   "metadata": {},
   "source": [
    "#### Final selected Continuous columns:\n",
    "'Income','MntWines', 'MntFruits', 'MntMeatProducts','MntFishProducts', 'MntSweetProducts', 'MntGoldProds', 'NumDealsPurchases', 'NumCatalogPurchases','NumStorePurchases', 'age'            \n"
   ]
  },
  {
   "cell_type": "markdown",
   "id": "a10fc45c",
   "metadata": {},
   "source": [
    "### Relationship exploration: Categorical Vs Categorical -- Grouped Bar Charts\n",
    "When the target variable is Categorical and the predictor is also Categorical then we explore the correlation between them visually using barplots and statistically using Chi-square test"
   ]
  },
  {
   "cell_type": "code",
   "execution_count": 53,
   "id": "00fe5558",
   "metadata": {
    "scrolled": false
   },
   "outputs": [
    {
     "data": {
      "image/png": "[encoded data removed]",
      "text/plain": [
       "<Figure size 720x3600 with 13 Axes>"
      ]
     },
     "metadata": {
      "needs_background": "light"
     },
     "output_type": "display_data"
    }
   ],
   "source": [
    "# Visual Inference using Grouped Bar charts\n",
    "CategoricalColsList=['Education','Marital_Status','Kidhome','Teenhome','AcceptedCmp3','AcceptedCmp4',\n",
    "                     'AcceptedCmp5', 'AcceptedCmp1', 'AcceptedCmp2', 'Response', 'Country', 'Yr_Customer', 'Complain']\n",
    "\n",
    "import matplotlib.pyplot as plt\n",
    "fig, PlotCanvas=plt.subplots(nrows=len(CategoricalColsList), ncols=1, figsize=(10,50))\n",
    "\n",
    "# Creating Grouped bar plots for each categorical predictor against the Target Variable \"Survived\"\n",
    "for CategoricalCol , i in zip(CategoricalColsList, range(len(CategoricalColsList))):\n",
    "    CrossTabResult=pd.crosstab(index=MarketingData[CategoricalCol], columns=MarketingData['HighWebPurchase'])\n",
    "    CrossTabResult.plot.bar(color=['yellow','blue'], ax=PlotCanvas[i], title=CategoricalCol+' Vs '+'HighWebPurchase')"
   ]
  },
  {
   "cell_type": "markdown",
   "id": "3e0a31c0",
   "metadata": {},
   "source": [
    "### Grouped Bar charts Interpretation"
   ]
  },
  {
   "cell_type": "markdown",
   "id": "d113df4c",
   "metadata": {},
   "source": [
    "### Statistical Feature Selection (Categorical Vs Categorical) using Chi-Square Test\n",
    "\n",
    "Chi-Square test is conducted to check the correlation between two categorical variables\n",
    "\n",
    "* Assumption(H0): The two columns are NOT related to each other\n",
    "* Result of Chi-Sq Test: The Probability of H0 being True\n",
    "* More information on ChiSq: https://www.mathsisfun.com/data/chi-square-test.html"
   ]
  },
  {
   "cell_type": "code",
   "execution_count": 54,
   "id": "18190dac",
   "metadata": {},
   "outputs": [],
   "source": [
    "# Writing a function to find the correlation of all categorical variables with the Target variable\n",
    "def FunctionChisq(inpData, TargetVariable, CategoricalVariablesList):\n",
    "    from scipy.stats import chi2_contingency\n",
    "    \n",
    "    # Creating an empty list of final selected predictors\n",
    "    SelectedPredictors=[]\n",
    "\n",
    "    for predictor in CategoricalVariablesList:\n",
    "        CrossTabResult=pd.crosstab(index=inpData[TargetVariable], columns=inpData[predictor])\n",
    "        ChiSqResult = chi2_contingency(CrossTabResult)\n",
    "        \n",
    "        # If the ChiSq P-Value is <0.05, that means we reject H0\n",
    "        if (ChiSqResult[1] < 0.05):\n",
    "            print(predictor, 'is correlated with', TargetVariable, '| P-Value:', ChiSqResult[1])\n",
    "            SelectedPredictors.append(predictor)\n",
    "        else:\n",
    "            print(predictor, 'is NOT correlated with', TargetVariable, '| P-Value:', ChiSqResult[1])        \n",
    "            \n",
    "    return(SelectedPredictors)"
   ]
  },
  {
   "cell_type": "code",
   "execution_count": 55,
   "id": "934cf26c",
   "metadata": {},
   "outputs": [
    {
     "name": "stdout",
     "output_type": "stream",
     "text": [
      "Education is correlated with HighWebPurchase | P-Value: 9.035376006123997e-08\n",
      "Marital_Status is NOT correlated with HighWebPurchase | P-Value: 0.1894114276776036\n",
      "Kidhome is correlated with HighWebPurchase | P-Value: 1.7003107931005972e-59\n",
      "Teenhome is correlated with HighWebPurchase | P-Value: 1.2236028886836637e-13\n",
      "AcceptedCmp3 is correlated with HighWebPurchase | P-Value: 0.031920205417805256\n",
      "AcceptedCmp4 is correlated with HighWebPurchase | P-Value: 7.102929975715519e-13\n",
      "AcceptedCmp5 is correlated with HighWebPurchase | P-Value: 2.069615271119587e-13\n",
      "AcceptedCmp1 is correlated with HighWebPurchase | P-Value: 5.607091133388352e-15\n",
      "AcceptedCmp2 is NOT correlated with HighWebPurchase | P-Value: 0.1164167723007067\n",
      "Response is correlated with HighWebPurchase | P-Value: 5.101116603859438e-13\n",
      "Country is NOT correlated with HighWebPurchase | P-Value: 0.48890337149895446\n",
      "Yr_Customer is correlated with HighWebPurchase | P-Value: 4.0517741879840836e-13\n",
      "Complain is NOT correlated with HighWebPurchase | P-Value: 0.5121832949300742\n"
     ]
    },
    {
     "data": {
      "text/plain": [
       "['Education',\n",
       " 'Kidhome',\n",
       " 'Teenhome',\n",
       " 'AcceptedCmp3',\n",
       " 'AcceptedCmp4',\n",
       " 'AcceptedCmp5',\n",
       " 'AcceptedCmp1',\n",
       " 'Response',\n",
       " 'Yr_Customer']"
      ]
     },
     "execution_count": 55,
     "metadata": {},
     "output_type": "execute_result"
    }
   ],
   "source": [
    "CategoricalVariables=['Education','Marital_Status','Kidhome','Teenhome','AcceptedCmp3','AcceptedCmp4',\n",
    "                     'AcceptedCmp5', 'AcceptedCmp1', 'AcceptedCmp2', 'Response', 'Country', 'Yr_Customer', 'Complain']\n",
    "\n",
    "# Calling the function\n",
    "FunctionChisq(inpData=MarketingData, \n",
    "              TargetVariable='HighWebPurchase',\n",
    "              CategoricalVariablesList= CategoricalVariables)"
   ]
  },
  {
   "cell_type": "markdown",
   "id": "3083a106",
   "metadata": {},
   "source": [
    "<b>Final selected Categorical columns:</b>\n",
    "\n",
    "'Education','Kidhome','Teenhome','AcceptedCmp3','AcceptedCmp4','AcceptedCmp5', 'AcceptedCmp1', 'Response','Yr_Customer'"
   ]
  },
  {
   "cell_type": "markdown",
   "id": "d0df29e1",
   "metadata": {},
   "source": [
    "### Selecting final predictors for Machine Learning"
   ]
  },
  {
   "cell_type": "code",
   "execution_count": 56,
   "id": "ada94062",
   "metadata": {},
   "outputs": [
    {
     "data": {
      "text/html": [
       "<div>\n",
       "<style scoped>\n",
       "    .dataframe tbody tr th:only-of-type {\n",
       "        vertical-align: middle;\n",
       "    }\n",
       "\n",
       "    .dataframe tbody tr th {\n",
       "        vertical-align: top;\n",
       "    }\n",
       "\n",
       "    .dataframe thead th {\n",
       "        text-align: right;\n",
       "    }\n",
       "</style>\n",
       "<table border=\"1\" class=\"dataframe\">\n",
       "  <thead>\n",
       "    <tr style=\"text-align: right;\">\n",
       "      <th></th>\n",
       "      <th>Income</th>\n",
       "      <th>MntWines</th>\n",
       "      <th>MntFruits</th>\n",
       "      <th>MntMeatProducts</th>\n",
       "      <th>MntFishProducts</th>\n",
       "      <th>MntSweetProducts</th>\n",
       "      <th>MntGoldProds</th>\n",
       "      <th>NumDealsPurchases</th>\n",
       "      <th>NumCatalogPurchases</th>\n",
       "      <th>NumStorePurchases</th>\n",
       "      <th>age</th>\n",
       "      <th>Education</th>\n",
       "      <th>Kidhome</th>\n",
       "      <th>Teenhome</th>\n",
       "      <th>AcceptedCmp3</th>\n",
       "      <th>AcceptedCmp4</th>\n",
       "      <th>AcceptedCmp5</th>\n",
       "      <th>AcceptedCmp1</th>\n",
       "      <th>Response</th>\n",
       "      <th>Yr_Customer</th>\n",
       "    </tr>\n",
       "  </thead>\n",
       "  <tbody>\n",
       "    <tr>\n",
       "      <th>0</th>\n",
       "      <td>84835.0</td>\n",
       "      <td>189</td>\n",
       "      <td>104</td>\n",
       "      <td>379</td>\n",
       "      <td>111</td>\n",
       "      <td>189</td>\n",
       "      <td>218</td>\n",
       "      <td>1</td>\n",
       "      <td>4</td>\n",
       "      <td>6</td>\n",
       "      <td>30</td>\n",
       "      <td>Graduation</td>\n",
       "      <td>0</td>\n",
       "      <td>0</td>\n",
       "      <td>0</td>\n",
       "      <td>0</td>\n",
       "      <td>0</td>\n",
       "      <td>0</td>\n",
       "      <td>1</td>\n",
       "      <td>2014</td>\n",
       "    </tr>\n",
       "    <tr>\n",
       "      <th>1</th>\n",
       "      <td>57091.0</td>\n",
       "      <td>464</td>\n",
       "      <td>5</td>\n",
       "      <td>64</td>\n",
       "      <td>7</td>\n",
       "      <td>0</td>\n",
       "      <td>37</td>\n",
       "      <td>1</td>\n",
       "      <td>3</td>\n",
       "      <td>7</td>\n",
       "      <td>39</td>\n",
       "      <td>Graduation</td>\n",
       "      <td>0</td>\n",
       "      <td>0</td>\n",
       "      <td>0</td>\n",
       "      <td>0</td>\n",
       "      <td>0</td>\n",
       "      <td>0</td>\n",
       "      <td>1</td>\n",
       "      <td>2014</td>\n",
       "    </tr>\n",
       "    <tr>\n",
       "      <th>2</th>\n",
       "      <td>67267.0</td>\n",
       "      <td>134</td>\n",
       "      <td>11</td>\n",
       "      <td>59</td>\n",
       "      <td>15</td>\n",
       "      <td>2</td>\n",
       "      <td>30</td>\n",
       "      <td>1</td>\n",
       "      <td>2</td>\n",
       "      <td>5</td>\n",
       "      <td>42</td>\n",
       "      <td>Graduation</td>\n",
       "      <td>0</td>\n",
       "      <td>1</td>\n",
       "      <td>0</td>\n",
       "      <td>0</td>\n",
       "      <td>0</td>\n",
       "      <td>0</td>\n",
       "      <td>0</td>\n",
       "      <td>2014</td>\n",
       "    </tr>\n",
       "    <tr>\n",
       "      <th>3</th>\n",
       "      <td>32474.0</td>\n",
       "      <td>10</td>\n",
       "      <td>0</td>\n",
       "      <td>1</td>\n",
       "      <td>0</td>\n",
       "      <td>0</td>\n",
       "      <td>0</td>\n",
       "      <td>1</td>\n",
       "      <td>0</td>\n",
       "      <td>2</td>\n",
       "      <td>33</td>\n",
       "      <td>Graduation</td>\n",
       "      <td>1</td>\n",
       "      <td>1</td>\n",
       "      <td>0</td>\n",
       "      <td>0</td>\n",
       "      <td>0</td>\n",
       "      <td>0</td>\n",
       "      <td>0</td>\n",
       "      <td>2014</td>\n",
       "    </tr>\n",
       "    <tr>\n",
       "      <th>4</th>\n",
       "      <td>21474.0</td>\n",
       "      <td>6</td>\n",
       "      <td>16</td>\n",
       "      <td>24</td>\n",
       "      <td>11</td>\n",
       "      <td>0</td>\n",
       "      <td>34</td>\n",
       "      <td>2</td>\n",
       "      <td>1</td>\n",
       "      <td>2</td>\n",
       "      <td>11</td>\n",
       "      <td>Graduation</td>\n",
       "      <td>1</td>\n",
       "      <td>0</td>\n",
       "      <td>1</td>\n",
       "      <td>0</td>\n",
       "      <td>0</td>\n",
       "      <td>0</td>\n",
       "      <td>1</td>\n",
       "      <td>2014</td>\n",
       "    </tr>\n",
       "  </tbody>\n",
       "</table>\n",
       "</div>"
      ],
      "text/plain": [
       "    Income  MntWines  MntFruits  MntMeatProducts  MntFishProducts  \\\n",
       "0  84835.0       189        104              379              111   \n",
       "1  57091.0       464          5               64                7   \n",
       "2  67267.0       134         11               59               15   \n",
       "3  32474.0        10          0                1                0   \n",
       "4  21474.0         6         16               24               11   \n",
       "\n",
       "   MntSweetProducts  MntGoldProds  NumDealsPurchases  NumCatalogPurchases  \\\n",
       "0               189           218                  1                    4   \n",
       "1                 0            37                  1                    3   \n",
       "2                 2            30                  1                    2   \n",
       "3                 0             0                  1                    0   \n",
       "4                 0            34                  2                    1   \n",
       "\n",
       "   NumStorePurchases  age   Education  Kidhome  Teenhome  AcceptedCmp3  \\\n",
       "0                  6   30  Graduation        0         0             0   \n",
       "1                  7   39  Graduation        0         0             0   \n",
       "2                  5   42  Graduation        0         1             0   \n",
       "3                  2   33  Graduation        1         1             0   \n",
       "4                  2   11  Graduation        1         0             1   \n",
       "\n",
       "   AcceptedCmp4  AcceptedCmp5  AcceptedCmp1  Response  Yr_Customer  \n",
       "0             0             0             0         1         2014  \n",
       "1             0             0             0         1         2014  \n",
       "2             0             0             0         0         2014  \n",
       "3             0             0             0         0         2014  \n",
       "4             0             0             0         1         2014  "
      ]
     },
     "execution_count": 56,
     "metadata": {},
     "output_type": "execute_result"
    }
   ],
   "source": [
    "SelectedColumns=['Income','MntWines', 'MntFruits', 'MntMeatProducts','MntFishProducts', 'MntSweetProducts',\n",
    "                 'MntGoldProds', 'NumDealsPurchases', 'NumCatalogPurchases','NumStorePurchases', 'age',\n",
    "                'Education','Kidhome','Teenhome','AcceptedCmp3','AcceptedCmp4','AcceptedCmp5', \n",
    "                 'AcceptedCmp1', 'Response','Yr_Customer']\n",
    "\n",
    "#Selecting final columns\n",
    "DataForML=MarketingData[SelectedColumns]\n",
    "DataForML.head()"
   ]
  },
  {
   "cell_type": "code",
   "execution_count": 57,
   "id": "193a6439",
   "metadata": {},
   "outputs": [],
   "source": [
    "# Saving this final data in serialized format for reference during deployment\n",
    "DataForML.to_pickle('DataForML.pkl')"
   ]
  },
  {
   "cell_type": "markdown",
   "id": "753c2dd5",
   "metadata": {},
   "source": [
    "## 12. Data Pre-processing for Machine Learning"
   ]
  },
  {
   "cell_type": "markdown",
   "id": "06be312e",
   "metadata": {},
   "source": [
    "#### 1. Converting each Ordinal Categorical columns to numeric\n",
    " Looking at unique values of ordinal column 'Education'"
   ]
  },
  {
   "cell_type": "code",
   "execution_count": 58,
   "id": "3c021e59",
   "metadata": {},
   "outputs": [
    {
     "data": {
      "text/plain": [
       "array(['Graduation', 'PhD', '2n Cycle', 'Master', 'Basic'], dtype=object)"
      ]
     },
     "execution_count": 58,
     "metadata": {},
     "output_type": "execute_result"
    }
   ],
   "source": [
    "DataForML['Education'].unique()"
   ]
  },
  {
   "cell_type": "code",
   "execution_count": 59,
   "id": "b65511a5",
   "metadata": {},
   "outputs": [],
   "source": [
    "# Replacing the ordinal values for Education\n",
    "DataForML['Education'].replace({'Basic':1,\n",
    "                         '2n Cycle':2,\n",
    "                         'Graduation':3,\n",
    "                         'Master':4,\n",
    "                         'PhD':5},inplace=True)"
   ]
  },
  {
   "cell_type": "code",
   "execution_count": 60,
   "id": "8055f55b",
   "metadata": {},
   "outputs": [
    {
     "data": {
      "text/plain": [
       "array([3, 5, 2, 4, 1], dtype=int64)"
      ]
     },
     "execution_count": 60,
     "metadata": {},
     "output_type": "execute_result"
    }
   ],
   "source": [
    "DataForML['Education'].unique()"
   ]
  },
  {
   "cell_type": "markdown",
   "id": "5912167f",
   "metadata": {},
   "source": [
    "#### 2. Converting Binary nominal Categorical columns to numeric using 1/0 mapping\n",
    "No column required 1/0 mapping"
   ]
  },
  {
   "cell_type": "markdown",
   "id": "2038750e",
   "metadata": {},
   "source": [
    "#### 3. Converting the nominal variable to numeric using get_dummies()"
   ]
  },
  {
   "cell_type": "code",
   "execution_count": 61,
   "id": "da1751c1",
   "metadata": {},
   "outputs": [
    {
     "data": {
      "text/html": [
       "<div>\n",
       "<style scoped>\n",
       "    .dataframe tbody tr th:only-of-type {\n",
       "        vertical-align: middle;\n",
       "    }\n",
       "\n",
       "    .dataframe tbody tr th {\n",
       "        vertical-align: top;\n",
       "    }\n",
       "\n",
       "    .dataframe thead th {\n",
       "        text-align: right;\n",
       "    }\n",
       "</style>\n",
       "<table border=\"1\" class=\"dataframe\">\n",
       "  <thead>\n",
       "    <tr style=\"text-align: right;\">\n",
       "      <th></th>\n",
       "      <th>Income</th>\n",
       "      <th>MntWines</th>\n",
       "      <th>MntFruits</th>\n",
       "      <th>MntMeatProducts</th>\n",
       "      <th>MntFishProducts</th>\n",
       "      <th>MntSweetProducts</th>\n",
       "      <th>MntGoldProds</th>\n",
       "      <th>NumDealsPurchases</th>\n",
       "      <th>NumCatalogPurchases</th>\n",
       "      <th>NumStorePurchases</th>\n",
       "      <th>...</th>\n",
       "      <th>Education</th>\n",
       "      <th>Kidhome</th>\n",
       "      <th>Teenhome</th>\n",
       "      <th>AcceptedCmp3</th>\n",
       "      <th>AcceptedCmp4</th>\n",
       "      <th>AcceptedCmp5</th>\n",
       "      <th>AcceptedCmp1</th>\n",
       "      <th>Response</th>\n",
       "      <th>Yr_Customer</th>\n",
       "      <th>HighWebPurchase</th>\n",
       "    </tr>\n",
       "  </thead>\n",
       "  <tbody>\n",
       "    <tr>\n",
       "      <th>0</th>\n",
       "      <td>84835.0</td>\n",
       "      <td>189</td>\n",
       "      <td>104</td>\n",
       "      <td>379</td>\n",
       "      <td>111</td>\n",
       "      <td>189</td>\n",
       "      <td>218</td>\n",
       "      <td>1</td>\n",
       "      <td>4</td>\n",
       "      <td>6</td>\n",
       "      <td>...</td>\n",
       "      <td>3</td>\n",
       "      <td>0</td>\n",
       "      <td>0</td>\n",
       "      <td>0</td>\n",
       "      <td>0</td>\n",
       "      <td>0</td>\n",
       "      <td>0</td>\n",
       "      <td>1</td>\n",
       "      <td>2014</td>\n",
       "      <td>0</td>\n",
       "    </tr>\n",
       "    <tr>\n",
       "      <th>1</th>\n",
       "      <td>57091.0</td>\n",
       "      <td>464</td>\n",
       "      <td>5</td>\n",
       "      <td>64</td>\n",
       "      <td>7</td>\n",
       "      <td>0</td>\n",
       "      <td>37</td>\n",
       "      <td>1</td>\n",
       "      <td>3</td>\n",
       "      <td>7</td>\n",
       "      <td>...</td>\n",
       "      <td>3</td>\n",
       "      <td>0</td>\n",
       "      <td>0</td>\n",
       "      <td>0</td>\n",
       "      <td>0</td>\n",
       "      <td>0</td>\n",
       "      <td>0</td>\n",
       "      <td>1</td>\n",
       "      <td>2014</td>\n",
       "      <td>1</td>\n",
       "    </tr>\n",
       "    <tr>\n",
       "      <th>2</th>\n",
       "      <td>67267.0</td>\n",
       "      <td>134</td>\n",
       "      <td>11</td>\n",
       "      <td>59</td>\n",
       "      <td>15</td>\n",
       "      <td>2</td>\n",
       "      <td>30</td>\n",
       "      <td>1</td>\n",
       "      <td>2</td>\n",
       "      <td>5</td>\n",
       "      <td>...</td>\n",
       "      <td>3</td>\n",
       "      <td>0</td>\n",
       "      <td>1</td>\n",
       "      <td>0</td>\n",
       "      <td>0</td>\n",
       "      <td>0</td>\n",
       "      <td>0</td>\n",
       "      <td>0</td>\n",
       "      <td>2014</td>\n",
       "      <td>0</td>\n",
       "    </tr>\n",
       "    <tr>\n",
       "      <th>3</th>\n",
       "      <td>32474.0</td>\n",
       "      <td>10</td>\n",
       "      <td>0</td>\n",
       "      <td>1</td>\n",
       "      <td>0</td>\n",
       "      <td>0</td>\n",
       "      <td>0</td>\n",
       "      <td>1</td>\n",
       "      <td>0</td>\n",
       "      <td>2</td>\n",
       "      <td>...</td>\n",
       "      <td>3</td>\n",
       "      <td>1</td>\n",
       "      <td>1</td>\n",
       "      <td>0</td>\n",
       "      <td>0</td>\n",
       "      <td>0</td>\n",
       "      <td>0</td>\n",
       "      <td>0</td>\n",
       "      <td>2014</td>\n",
       "      <td>0</td>\n",
       "    </tr>\n",
       "    <tr>\n",
       "      <th>4</th>\n",
       "      <td>21474.0</td>\n",
       "      <td>6</td>\n",
       "      <td>16</td>\n",
       "      <td>24</td>\n",
       "      <td>11</td>\n",
       "      <td>0</td>\n",
       "      <td>34</td>\n",
       "      <td>2</td>\n",
       "      <td>1</td>\n",
       "      <td>2</td>\n",
       "      <td>...</td>\n",
       "      <td>3</td>\n",
       "      <td>1</td>\n",
       "      <td>0</td>\n",
       "      <td>1</td>\n",
       "      <td>0</td>\n",
       "      <td>0</td>\n",
       "      <td>0</td>\n",
       "      <td>1</td>\n",
       "      <td>2014</td>\n",
       "      <td>0</td>\n",
       "    </tr>\n",
       "  </tbody>\n",
       "</table>\n",
       "<p>5 rows × 21 columns</p>\n",
       "</div>"
      ],
      "text/plain": [
       "    Income  MntWines  MntFruits  MntMeatProducts  MntFishProducts  \\\n",
       "0  84835.0       189        104              379              111   \n",
       "1  57091.0       464          5               64                7   \n",
       "2  67267.0       134         11               59               15   \n",
       "3  32474.0        10          0                1                0   \n",
       "4  21474.0         6         16               24               11   \n",
       "\n",
       "   MntSweetProducts  MntGoldProds  NumDealsPurchases  NumCatalogPurchases  \\\n",
       "0               189           218                  1                    4   \n",
       "1                 0            37                  1                    3   \n",
       "2                 2            30                  1                    2   \n",
       "3                 0             0                  1                    0   \n",
       "4                 0            34                  2                    1   \n",
       "\n",
       "   NumStorePurchases  ...  Education  Kidhome  Teenhome  AcceptedCmp3  \\\n",
       "0                  6  ...          3        0         0             0   \n",
       "1                  7  ...          3        0         0             0   \n",
       "2                  5  ...          3        0         1             0   \n",
       "3                  2  ...          3        1         1             0   \n",
       "4                  2  ...          3        1         0             1   \n",
       "\n",
       "   AcceptedCmp4  AcceptedCmp5  AcceptedCmp1  Response  Yr_Customer  \\\n",
       "0             0             0             0         1         2014   \n",
       "1             0             0             0         1         2014   \n",
       "2             0             0             0         0         2014   \n",
       "3             0             0             0         0         2014   \n",
       "4             0             0             0         1         2014   \n",
       "\n",
       "   HighWebPurchase  \n",
       "0                0  \n",
       "1                1  \n",
       "2                0  \n",
       "3                0  \n",
       "4                0  \n",
       "\n",
       "[5 rows x 21 columns]"
      ]
     },
     "execution_count": 61,
     "metadata": {},
     "output_type": "execute_result"
    }
   ],
   "source": [
    "# Treating all the nominal variables at once using dummy variables\n",
    "DataForML_Numeric=pd.get_dummies(DataForML)\n",
    "\n",
    "# Adding Target Variable to the data\n",
    "DataForML_Numeric['HighWebPurchase']=MarketingData['HighWebPurchase']\n",
    "\n",
    "# Printing sample rows\n",
    "DataForML_Numeric.head()"
   ]
  },
  {
   "cell_type": "markdown",
   "id": "27f6d129",
   "metadata": {},
   "source": [
    "## 13. Machine Learning: Splitting the data into Training and Testing sample"
   ]
  },
  {
   "cell_type": "code",
   "execution_count": 62,
   "id": "85c6dfb7",
   "metadata": {},
   "outputs": [
    {
     "data": {
      "text/plain": [
       "Index(['Income', 'MntWines', 'MntFruits', 'MntMeatProducts', 'MntFishProducts',\n",
       "       'MntSweetProducts', 'MntGoldProds', 'NumDealsPurchases',\n",
       "       'NumCatalogPurchases', 'NumStorePurchases', 'age', 'Education',\n",
       "       'Kidhome', 'Teenhome', 'AcceptedCmp3', 'AcceptedCmp4', 'AcceptedCmp5',\n",
       "       'AcceptedCmp1', 'Response', 'Yr_Customer', 'HighWebPurchase'],\n",
       "      dtype='object')"
      ]
     },
     "execution_count": 62,
     "metadata": {},
     "output_type": "execute_result"
    }
   ],
   "source": [
    "# Printing all the column names for our reference\n",
    "DataForML_Numeric.columns"
   ]
  },
  {
   "cell_type": "code",
   "execution_count": 63,
   "id": "a88e822b",
   "metadata": {},
   "outputs": [],
   "source": [
    "# Separate Target Variable and Predictor Variables\n",
    "TargetVariable='HighWebPurchase'\n",
    "Predictors=['Income', 'MntWines', 'MntFruits', 'MntMeatProducts', 'MntFishProducts',\n",
    "       'MntSweetProducts', 'MntGoldProds', 'NumDealsPurchases',\n",
    "       'NumCatalogPurchases', 'NumStorePurchases', 'age', 'Education',\n",
    "       'Kidhome', 'Teenhome', 'AcceptedCmp3', 'AcceptedCmp4', 'AcceptedCmp5',\n",
    "       'AcceptedCmp1', 'Response', 'Yr_Customer']\n",
    "\n",
    "X=DataForML_Numeric[Predictors].values\n",
    "y=DataForML_Numeric[TargetVariable].values\n",
    "\n",
    "# Split the data into training and testing set\n",
    "from sklearn.model_selection import train_test_split\n",
    "X_train, X_test, y_train, y_test = train_test_split(X, y, test_size=0.3, random_state=369)"
   ]
  },
  {
   "cell_type": "markdown",
   "id": "23d4e97e",
   "metadata": {},
   "source": [
    "## 14. Standardization/Normalization of data"
   ]
  },
  {
   "cell_type": "code",
   "execution_count": 64,
   "id": "368e606a",
   "metadata": {},
   "outputs": [],
   "source": [
    "### Standardization of data ###\n",
    "from sklearn.preprocessing import StandardScaler, MinMaxScaler\n",
    "# Choose either standardization or Normalization\n",
    "# On this data Min Max Normalization produced better results\n",
    "PredictorScaler=MinMaxScaler()\n",
    "\n",
    "# Storing the fit object for later reference\n",
    "PredictorScalerFit=PredictorScaler.fit(X)\n",
    "\n",
    "# Generating the standardized values of X\n",
    "X=PredictorScalerFit.transform(X)\n",
    "\n",
    "# Split the data into training and testing set\n",
    "from sklearn.model_selection import train_test_split\n",
    "X_train, X_test, y_train, y_test = train_test_split(X, y, test_size=0.3, random_state=369)"
   ]
  },
  {
   "cell_type": "code",
   "execution_count": 65,
   "id": "3c730fb1",
   "metadata": {},
   "outputs": [
    {
     "name": "stdout",
     "output_type": "stream",
     "text": [
      "(1568, 20)\n",
      "(1568,)\n",
      "(672, 20)\n",
      "(672,)\n"
     ]
    }
   ],
   "source": [
    "# Sanity check for the sampled data\n",
    "print(X_train.shape)\n",
    "print(y_train.shape)\n",
    "print(X_test.shape)\n",
    "print(y_test.shape)"
   ]
  },
  {
   "cell_type": "markdown",
   "id": "2ea6c8d9",
   "metadata": {},
   "source": [
    "## 15.1. Logistic Regression"
   ]
  },
  {
   "cell_type": "code",
   "execution_count": 68,
   "id": "f1dcd664",
   "metadata": {},
   "outputs": [
    {
     "name": "stdout",
     "output_type": "stream",
     "text": [
      "     Income  MntWines  MntFruits  MntMeatProducts  MntFishProducts  \\\n",
      "0  0.255429  0.047555   0.000000         0.007536         0.011583   \n",
      "1  0.316188  0.189551   0.562814         0.087536         0.196911   \n",
      "2  0.130108  0.001340   0.115578         0.006377         0.030888   \n",
      "3  0.411914  0.354320   0.000000         0.206377         0.243243   \n",
      "4  0.564901  0.655727   0.221106         0.542029         0.111969   \n",
      "\n",
      "   MntSweetProducts  MntGoldProds  NumDealsPurchases  NumCatalogPurchases  \\\n",
      "0          0.003802      0.000000           0.133333             0.035714   \n",
      "1          0.273764      0.345304           0.133333             0.071429   \n",
      "2          0.022814      0.127072           0.066667             0.035714   \n",
      "3          0.106464      0.000000           0.200000             0.250000   \n",
      "4          0.095057      0.060773           0.066667             0.178571   \n",
      "\n",
      "   NumStorePurchases  ...  Kidhome  Teenhome  AcceptedCmp3  AcceptedCmp4  \\\n",
      "0           0.307692  ...      0.0       0.5           0.0           0.0   \n",
      "1           0.769231  ...      0.0       0.0           0.0           0.0   \n",
      "2           0.153846  ...      0.0       0.0           0.0           0.0   \n",
      "3           0.846154  ...      0.0       0.5           0.0           0.0   \n",
      "4           0.923077  ...      0.0       0.0           0.0           1.0   \n",
      "\n",
      "   AcceptedCmp5  AcceptedCmp1  Response  Yr_Customer  HighWebPurchase  \\\n",
      "0           0.0           0.0       0.0          0.5                0   \n",
      "1           0.0           0.0       0.0          0.0                1   \n",
      "2           0.0           0.0       0.0          0.5                0   \n",
      "3           0.0           0.0       0.0          1.0                1   \n",
      "4           1.0           1.0       1.0          0.5                1   \n",
      "\n",
      "   Predicted_HighWebPurchase  \n",
      "0                          0  \n",
      "1                          1  \n",
      "2                          0  \n",
      "3                          1  \n",
      "4                          1  \n",
      "\n",
      "[5 rows x 22 columns]\n",
      "              precision    recall  f1-score   support\n",
      "\n",
      "           0       0.80      0.80      0.80       421\n",
      "           1       0.67      0.67      0.67       251\n",
      "\n",
      "    accuracy                           0.75       672\n",
      "   macro avg       0.74      0.74      0.74       672\n",
      "weighted avg       0.75      0.75      0.75       672\n",
      "\n",
      "[[338  83]\n",
      " [ 83 168]]\n",
      "Accuracy of the model on Testing Sample Data: 0.75\n",
      "\n",
      "Accuracy values for 10-fold Cross Validation:\n",
      " [0.79554264 0.77357049 0.72927535 0.81716909 0.82800099 0.75150401\n",
      " 0.71491165 0.72842262 0.81675078 0.73564735]\n",
      "\n",
      "Final Average Accuracy of the model: 0.77\n",
      "Time taken: 0.20826053619384766\n",
      "Feature: 0, Score: 1.28977\n",
      "Feature: 1, Score: 2.30882\n",
      "Feature: 2, Score: 0.34457\n",
      "Feature: 3, Score: -0.54317\n",
      "Feature: 4, Score: 0.26599\n",
      "Feature: 5, Score: 0.88352\n",
      "Feature: 6, Score: 1.81036\n",
      "Feature: 7, Score: 3.69161\n",
      "Feature: 8, Score: -0.45582\n",
      "Feature: 9, Score: 2.01489\n",
      "Feature: 10, Score: 0.44989\n",
      "Feature: 11, Score: 0.07234\n",
      "Feature: 12, Score: -1.02037\n",
      "Feature: 13, Score: 1.05177\n",
      "Feature: 14, Score: 0.31837\n",
      "Feature: 15, Score: -0.18487\n",
      "Feature: 16, Score: -0.37947\n",
      "Feature: 17, Score: 0.51037\n",
      "Feature: 18, Score: 0.59877\n",
      "Feature: 19, Score: -0.30375\n"
     ]
    },
    {
     "data": {
      "image/png": "[encoded data removed]",
      "text/plain": [
       "<Figure size 432x288 with 1 Axes>"
      ]
     },
     "metadata": {
      "needs_background": "light"
     },
     "output_type": "display_data"
    }
   ],
   "source": [
    "import time\n",
    "T1=time.time()\n",
    "\n",
    "# Logistic Regression\n",
    "from sklearn.linear_model import LogisticRegression\n",
    "# choose parameter Penalty='l1' or C=1\n",
    "# choose different values for solver 'newton-cg', 'lbfgs', 'liblinear', 'sag', 'saga'\n",
    "clf = LogisticRegression(C=1,penalty='l2', solver='newton-cg')\n",
    "#clf = LogisticRegression(C=1,penalty='l2', solver='liblinear')\n",
    "\n",
    "# Printing all the parameters of logistic regression\n",
    "# print(clf)\n",
    "\n",
    "# Creating the model on Training Data\n",
    "LOG=clf.fit(X_train,y_train)\n",
    "\n",
    "# Generating predictions on testing data\n",
    "prediction=LOG.predict(X_test)\n",
    "# Printing sample values of prediction in Testing data\n",
    "TestingData=pd.DataFrame(data=X_test, columns=Predictors)\n",
    "TestingData['HighWebPurchase']=y_test\n",
    "TestingData['Predicted_HighWebPurchase']=prediction\n",
    "print(TestingData.head())\n",
    "\n",
    "\n",
    "# Measuring accuracy on Testing Data\n",
    "from sklearn import metrics\n",
    "print(metrics.classification_report(y_test, prediction))\n",
    "print(metrics.confusion_matrix(prediction, y_test))\n",
    "\n",
    "# Printing the Overall Accuracy of the model\n",
    "F1_Score=metrics.f1_score(y_test, prediction, average='weighted')\n",
    "print('Accuracy of the model on Testing Sample Data:', round(F1_Score,2))\n",
    "\n",
    "# Importing cross validation function from sklearn\n",
    "from sklearn.model_selection import cross_val_score\n",
    "\n",
    "# Running 10-Fold Cross validation on a given algorithm\n",
    "# Passing full data X and y because the K-fold will split the data and automatically choose train/test\n",
    "Accuracy_Values=cross_val_score(LOG, X , y, cv=10, scoring='f1_weighted')\n",
    "print('\\nAccuracy values for 10-fold Cross Validation:\\n',Accuracy_Values)\n",
    "print('\\nFinal Average Accuracy of the model:', round(Accuracy_Values.mean(),2))\n",
    "\n",
    "T2=time.time()\n",
    "print(\"Time taken:\", T2-T1)\n",
    "\n",
    "# logistic regression for feature importance\n",
    "from sklearn.datasets import make_classification\n",
    "from sklearn.linear_model import LogisticRegression\n",
    "from matplotlib import pyplot\n",
    "# get importance\n",
    "importance = LOG.coef_[0]\n",
    "# summarize feature importance\n",
    "for i,v in enumerate(importance):\n",
    "    print('Feature: %0d, Score: %.5f' % (i,v))\n",
    "# plot feature importance\n",
    "pyplot.bar([x for x in range(len(importance))], importance)\n",
    "pyplot.show()\n",
    "\n"
   ]
  },
  {
   "cell_type": "markdown",
   "id": "f630e2cc",
   "metadata": {},
   "source": [
    "## 15.2. Decision Trees"
   ]
  },
  {
   "cell_type": "code",
   "execution_count": 75,
   "id": "d85e2a52",
   "metadata": {},
   "outputs": [
    {
     "name": "stdout",
     "output_type": "stream",
     "text": [
      "DecisionTreeClassifier(criterion='entropy', max_depth=5)\n",
      "              precision    recall  f1-score   support\n",
      "\n",
      "           0       0.88      0.85      0.86       421\n",
      "           1       0.76      0.80      0.78       251\n",
      "\n",
      "    accuracy                           0.83       672\n",
      "   macro avg       0.82      0.82      0.82       672\n",
      "weighted avg       0.83      0.83      0.83       672\n",
      "\n",
      "[[356  65]\n",
      " [ 50 201]]\n",
      "Accuracy of the model on Testing Sample Data: 0.83\n",
      "\n",
      "Accuracy values for 10-fold Cross Validation:\n",
      " [0.82647729 0.78563596 0.80536307 0.85800229 0.82479292 0.78824996\n",
      " 0.814452   0.77784624 0.8134748  0.80935237]\n",
      "\n",
      "Final Average Accuracy of the model: 0.81\n",
      "Time taken: 0.19121742248535156\n"
     ]
    },
    {
     "data": {
      "image/png": "[encoded data removed]",
      "text/plain": [
       "<Figure size 432x288 with 1 Axes>"
      ]
     },
     "metadata": {
      "needs_background": "light"
     },
     "output_type": "display_data"
    }
   ],
   "source": [
    "import time\n",
    "T1=time.time()\n",
    "#Decision Trees\n",
    "from sklearn import tree\n",
    "#choose from different tunable hyper parameters\n",
    "clf = tree.DecisionTreeClassifier(max_depth=5,criterion='entropy')\n",
    "\n",
    "# Printing all the parameters of Decision Trees\n",
    "print(clf)\n",
    "\n",
    "# Creating the model on Training Data\n",
    "DTree=clf.fit(X_train,y_train)\n",
    "prediction=DTree.predict(X_test)\n",
    "\n",
    "# Measuring accuracy on Testing Data\n",
    "from sklearn import metrics\n",
    "print(metrics.classification_report(y_test, prediction))\n",
    "print(metrics.confusion_matrix(y_test, prediction))\n",
    "\n",
    "# Printing the Overall Accuracy of the model\n",
    "F1_Score=metrics.f1_score(y_test, prediction, average='weighted')\n",
    "print('Accuracy of the model on Testing Sample Data:', round(F1_Score,2))\n",
    "\n",
    "# Plotting the feature importance for Top 10 most important columns\n",
    "%matplotlib inline\n",
    "feature_importances = pd.Series(DTree.feature_importances_, index=Predictors)\n",
    "feature_importances.nlargest(10).plot(kind='barh')\n",
    "\n",
    "# Importing cross validation function from sklearn\n",
    "from sklearn.model_selection import cross_val_score\n",
    "\n",
    "# Running 10-Fold Cross validation on a given algorithm\n",
    "# Passing full data X and y because the K-fold will split the data and automatically choose train/test\n",
    "Accuracy_Values=cross_val_score(DTree, X , y, cv=10, scoring='f1_weighted')\n",
    "print('\\nAccuracy values for 10-fold Cross Validation:\\n',Accuracy_Values)\n",
    "print('\\nFinal Average Accuracy of the model:', round(Accuracy_Values.mean(),2))\n",
    "\n",
    "T2=time.time()\n",
    "print(\"Time taken:\", T2-T1)"
   ]
  },
  {
   "cell_type": "markdown",
   "id": "353945c4",
   "metadata": {},
   "source": [
    "## 15.3. Random Forest"
   ]
  },
  {
   "cell_type": "code",
   "execution_count": 80,
   "id": "d7baab7f",
   "metadata": {},
   "outputs": [
    {
     "name": "stdout",
     "output_type": "stream",
     "text": [
      "RandomForestClassifier(max_depth=3)\n",
      "              precision    recall  f1-score   support\n",
      "\n",
      "           0       0.94      0.71      0.81       421\n",
      "           1       0.66      0.92      0.77       251\n",
      "\n",
      "    accuracy                           0.79       672\n",
      "   macro avg       0.80      0.82      0.79       672\n",
      "weighted avg       0.84      0.79      0.80       672\n",
      "\n",
      "[[301 120]\n",
      " [ 19 232]]\n",
      "Accuracy of the model on Testing Sample Data: 0.8\n",
      "\n",
      "Accuracy values for 10-fold Cross Validation:\n",
      " [0.80641273 0.82810084 0.79324855 0.82839328 0.8460536  0.77903428\n",
      " 0.74720585 0.81951468 0.82395844 0.79327198]\n",
      "\n",
      "Final Average Accuracy of the model: 0.81\n",
      "Time taken: 2.619933605194092\n"
     ]
    },
    {
     "data": {
      "image/png": "[encoded data removed]",
      "text/plain": [
       "<Figure size 432x288 with 1 Axes>"
      ]
     },
     "metadata": {
      "needs_background": "light"
     },
     "output_type": "display_data"
    }
   ],
   "source": [
    "import time\n",
    "T1=time.time()\n",
    "# Random Forest (Bagging of multiple Decision Trees)\n",
    "from sklearn.ensemble import RandomForestClassifier\n",
    "# Choose different hyperparameter values of max_depth, n_estimators and criterion to tune the model\n",
    "clf = RandomForestClassifier(max_depth=3, n_estimators=100,criterion='gini')\n",
    "\n",
    "# Printing all the parameters of Random Forest\n",
    "print(clf)\n",
    "\n",
    "# Creating the model on Training Data\n",
    "RF=clf.fit(X_train,y_train)\n",
    "prediction=RF.predict(X_test)\n",
    "\n",
    "# Measuring accuracy on Testing Data\n",
    "from sklearn import metrics\n",
    "print(metrics.classification_report(y_test, prediction))\n",
    "print(metrics.confusion_matrix(y_test, prediction))\n",
    "\n",
    "# Printing the Overall Accuracy of the model\n",
    "F1_Score=metrics.f1_score(y_test, prediction, average='weighted')\n",
    "print('Accuracy of the model on Testing Sample Data:', round(F1_Score,2))\n",
    "\n",
    "# Importing cross validation function from sklearn\n",
    "from sklearn.model_selection import cross_val_score\n",
    "\n",
    "# Running 10-Fold Cross validation on a given algorithm\n",
    "# Passing full data X and y because the K-fold will split the data and automatically choose train/test\n",
    "Accuracy_Values=cross_val_score(RF, X , y, cv=10, scoring='f1_weighted')\n",
    "print('\\nAccuracy values for 10-fold Cross Validation:\\n',Accuracy_Values)\n",
    "print('\\nFinal Average Accuracy of the model:', round(Accuracy_Values.mean(),2))\n",
    "\n",
    "\n",
    "# Plotting the feature importance for Top 10 most important columns\n",
    "%matplotlib inline\n",
    "feature_importances = pd.Series(RF.feature_importances_, index=Predictors)\n",
    "feature_importances.nlargest(10).plot(kind='barh')\n",
    "\n",
    "T2=time.time()\n",
    "print(\"Time taken:\", T2-T1)"
   ]
  },
  {
   "cell_type": "markdown",
   "id": "48f89f61",
   "metadata": {},
   "source": [
    "## 15.4. AdaBoost"
   ]
  },
  {
   "cell_type": "code",
   "execution_count": 85,
   "id": "d3211f52",
   "metadata": {},
   "outputs": [
    {
     "name": "stdout",
     "output_type": "stream",
     "text": [
      "AdaBoostClassifier(base_estimator=DecisionTreeClassifier(max_depth=3),\n",
      "                   learning_rate=0.01, n_estimators=100)\n",
      "              precision    recall  f1-score   support\n",
      "\n",
      "           0       0.93      0.76      0.84       421\n",
      "           1       0.70      0.90      0.79       251\n",
      "\n",
      "    accuracy                           0.82       672\n",
      "   macro avg       0.81      0.83      0.81       672\n",
      "weighted avg       0.84      0.82      0.82       672\n",
      "\n",
      "[[322  99]\n",
      " [ 24 227]]\n",
      "Accuracy of the model on Testing Sample Data: 0.82\n",
      "\n",
      "Accuracy values for 10-fold Cross Validation:\n",
      " [0.83743705 0.83651949 0.82845144 0.82845144 0.84158761 0.78400811\n",
      " 0.77903428 0.81961601 0.81964235 0.83285209]\n",
      "\n",
      "Final Average Accuracy of the model: 0.82\n",
      "Time taken: 7.735038995742798\n"
     ]
    },
    {
     "data": {
      "image/png": "[encoded data removed]",
      "text/plain": [
       "<Figure size 432x288 with 1 Axes>"
      ]
     },
     "metadata": {
      "needs_background": "light"
     },
     "output_type": "display_data"
    }
   ],
   "source": [
    "import time\n",
    "T1=time.time()\n",
    "# Adaboost \n",
    "from sklearn.ensemble import AdaBoostClassifier\n",
    "from sklearn.tree import DecisionTreeClassifier\n",
    "\n",
    "# Choosing Decision Tree with 1 level as the weak learner\n",
    "DTC=DecisionTreeClassifier(max_depth=3)\n",
    "clf = AdaBoostClassifier(n_estimators=100, base_estimator=DTC ,learning_rate=0.01)\n",
    "\n",
    "# Printing all the parameters of Adaboost\n",
    "print(clf)\n",
    "\n",
    "# Creating the model on Training Data\n",
    "AB=clf.fit(X_train,y_train)\n",
    "prediction=AB.predict(X_test)\n",
    "\n",
    "# Measuring accuracy on Testing Data\n",
    "from sklearn import metrics\n",
    "print(metrics.classification_report(y_test, prediction))\n",
    "print(metrics.confusion_matrix(y_test, prediction))\n",
    "\n",
    "# Printing the Overall Accuracy of the model\n",
    "F1_Score=metrics.f1_score(y_test, prediction, average='weighted')\n",
    "print('Accuracy of the model on Testing Sample Data:', round(F1_Score,2))\n",
    "\n",
    "# Importing cross validation function from sklearn\n",
    "from sklearn.model_selection import cross_val_score\n",
    "\n",
    "# Running 10-Fold Cross validation on a given algorithm\n",
    "# Passing full data X and y because the K-fold will split the data and automatically choose train/test\n",
    "Accuracy_Values=cross_val_score(AB, X , y, cv=10, scoring='f1_weighted')\n",
    "print('\\nAccuracy values for 10-fold Cross Validation:\\n',Accuracy_Values)\n",
    "print('\\nFinal Average Accuracy of the model:', round(Accuracy_Values.mean(),2))\n",
    "\n",
    "# Plotting the feature importance for Top 10 most important columns\n",
    "%matplotlib inline\n",
    "feature_importances = pd.Series(AB.feature_importances_, index=Predictors)\n",
    "feature_importances.nlargest(10).plot(kind='barh')\n",
    "\n",
    "T2=time.time()\n",
    "print(\"Time taken:\", T2-T1)"
   ]
  },
  {
   "cell_type": "markdown",
   "id": "3e96b26e",
   "metadata": {},
   "source": [
    "## 15.5. XGBoost"
   ]
  },
  {
   "cell_type": "code",
   "execution_count": 89,
   "id": "74aa30de",
   "metadata": {},
   "outputs": [
    {
     "name": "stdout",
     "output_type": "stream",
     "text": [
      "XGBClassifier(base_score=None, booster='gbtree', callbacks=None,\n",
      "              colsample_bylevel=None, colsample_bynode=None,\n",
      "              colsample_bytree=None, early_stopping_rounds=None,\n",
      "              enable_categorical=False, eval_metric=None, gamma=None,\n",
      "              gpu_id=None, grow_policy=None, importance_type=None,\n",
      "              interaction_constraints=None, learning_rate=0.1, max_bin=None,\n",
      "              max_cat_to_onehot=None, max_delta_step=None, max_depth=2,\n",
      "              max_leaves=None, min_child_weight=None, missing=nan,\n",
      "              monotone_constraints=None, n_estimators=100, n_jobs=None,\n",
      "              num_parallel_tree=None, predictor=None, random_state=None,\n",
      "              reg_alpha=None, reg_lambda=None, ...)\n",
      "              precision    recall  f1-score   support\n",
      "\n",
      "           0       0.90      0.77      0.83       421\n",
      "           1       0.69      0.85      0.76       251\n",
      "\n",
      "    accuracy                           0.80       672\n",
      "   macro avg       0.80      0.81      0.80       672\n",
      "weighted avg       0.82      0.80      0.81       672\n",
      "\n",
      "[[326  95]\n",
      " [ 37 214]]\n",
      "Accuracy of the model on Testing Sample Data: 0.81\n",
      "\n",
      "Accuracy values for 10-fold Cross Validation:\n",
      " [0.83737548 0.83110044 0.779359   0.84562866 0.85800229 0.81966279\n",
      " 0.81964235 0.80131512 0.82328761 0.84959873]\n",
      "\n",
      "Final Average Accuracy of the model: 0.83\n",
      "Time taken: 1.6080563068389893\n"
     ]
    },
    {
     "data": {
      "image/png": "[encoded data removed]",
      "text/plain": [
       "<Figure size 432x288 with 1 Axes>"
      ]
     },
     "metadata": {
      "needs_background": "light"
     },
     "output_type": "display_data"
    }
   ],
   "source": [
    "import time\n",
    "T1=time.time()\n",
    "# Xtreme Gradient Boosting (XGBoost)\n",
    "from xgboost import XGBClassifier\n",
    "clf=XGBClassifier(max_depth=2, learning_rate=0.1, n_estimators=100, objective='binary:logistic', booster='gbtree')\n",
    "#clf=XGBClassifier(max_depth=2, learning_rate=0.1, n_estimators=100, objective='multi:softmax', booster='gbtree')\n",
    "\n",
    "# Printing all the parameters of XGBoost\n",
    "print(clf)\n",
    "\n",
    "# Creating the model on Training Data\n",
    "XGB=clf.fit(X_train,y_train)\n",
    "prediction=XGB.predict(X_test)\n",
    "\n",
    "# Measuring accuracy on Testing Data\n",
    "from sklearn import metrics\n",
    "print(metrics.classification_report(y_test, prediction))\n",
    "print(metrics.confusion_matrix(y_test, prediction))\n",
    "\n",
    "# Printing the Overall Accuracy of the model\n",
    "F1_Score=metrics.f1_score(y_test, prediction, average='weighted')\n",
    "print('Accuracy of the model on Testing Sample Data:', round(F1_Score,2))\n",
    "\n",
    "# Importing cross validation function from sklearn\n",
    "from sklearn.model_selection import cross_val_score\n",
    "\n",
    "# Running 10-Fold Cross validation on a given algorithm\n",
    "# Passing full data X and y because the K-fold will split the data and automatically choose train/test\n",
    "Accuracy_Values=cross_val_score(XGB, X , y, cv=10, scoring='f1_weighted')\n",
    "print('\\nAccuracy values for 10-fold Cross Validation:\\n',Accuracy_Values)\n",
    "print('\\nFinal Average Accuracy of the model:', round(Accuracy_Values.mean(),2))\n",
    "\n",
    "# Plotting the feature importance for Top 10 most important columns\n",
    "%matplotlib inline\n",
    "feature_importances = pd.Series(XGB.feature_importances_, index=Predictors)\n",
    "feature_importances.nlargest(10).plot(kind='barh')\n",
    "T2=time.time()\n",
    "print(\"Time taken:\", T2-T1)"
   ]
  },
  {
   "cell_type": "markdown",
   "id": "7692bb3f",
   "metadata": {},
   "source": [
    "## 15.6. KNN"
   ]
  },
  {
   "cell_type": "code",
   "execution_count": 95,
   "id": "d8d93271",
   "metadata": {},
   "outputs": [
    {
     "name": "stdout",
     "output_type": "stream",
     "text": [
      "KNeighborsClassifier(n_neighbors=1)\n",
      "              precision    recall  f1-score   support\n",
      "\n",
      "           0       0.84      0.84      0.84       421\n",
      "           1       0.73      0.74      0.74       251\n",
      "\n",
      "    accuracy                           0.80       672\n",
      "   macro avg       0.79      0.79      0.79       672\n",
      "weighted avg       0.80      0.80      0.80       672\n",
      "\n",
      "[[352  69]\n",
      " [ 65 186]]\n",
      "Accuracy of the model on Testing Sample Data: 0.8\n",
      "\n",
      "Accuracy values for 10-fold Cross Validation:\n",
      " [0.76728189 0.76942286 0.74684066 0.76925372 0.77856575 0.76570865\n",
      " 0.748761   0.71842193 0.73745421 0.74045493]\n",
      "\n",
      "Final Average Accuracy of the model: 0.75\n",
      "Time taken: 0.2257838249206543\n",
      "Feature: 0, Score: 0.00750\n",
      "Feature: 1, Score: 0.06170\n",
      "Feature: 2, Score: 0.02893\n",
      "Feature: 3, Score: 0.00821\n",
      "Feature: 4, Score: 0.04259\n",
      "Feature: 5, Score: 0.02018\n",
      "Feature: 6, Score: 0.02464\n",
      "Feature: 7, Score: 0.02589\n",
      "Feature: 8, Score: 0.00295\n",
      "Feature: 9, Score: 0.09143\n",
      "Feature: 10, Score: 0.04277\n",
      "Feature: 11, Score: 0.04884\n",
      "Feature: 12, Score: 0.04786\n",
      "Feature: 13, Score: 0.07589\n",
      "Feature: 14, Score: 0.02393\n",
      "Feature: 15, Score: 0.03893\n",
      "Feature: 16, Score: 0.03750\n",
      "Feature: 17, Score: 0.05000\n",
      "Feature: 18, Score: 0.05348\n",
      "Feature: 19, Score: 0.08607\n"
     ]
    },
    {
     "data": {
      "image/png": "[encoded data removed]",
      "text/plain": [
       "<Figure size 432x288 with 1 Axes>"
      ]
     },
     "metadata": {
      "needs_background": "light"
     },
     "output_type": "display_data"
    }
   ],
   "source": [
    "import time\n",
    "T1=time.time()\n",
    "# K-Nearest Neighbor(KNN)\n",
    "from sklearn.neighbors import KNeighborsClassifier\n",
    "clf = KNeighborsClassifier(n_neighbors=1)\n",
    "\n",
    "# Printing all the parameters of KNN\n",
    "print(clf)\n",
    "\n",
    "# Creating the model on Training Data\n",
    "KNN=clf.fit(X_train,y_train)\n",
    "prediction=KNN.predict(X_test)\n",
    "\n",
    "# Measuring accuracy on Testing Data\n",
    "from sklearn import metrics\n",
    "print(metrics.classification_report(y_test, prediction))\n",
    "print(metrics.confusion_matrix(y_test, prediction))\n",
    "\n",
    "# Printing the Overall Accuracy of the model\n",
    "F1_Score=metrics.f1_score(y_test, prediction, average='weighted')\n",
    "print('Accuracy of the model on Testing Sample Data:', round(F1_Score,2))\n",
    "\n",
    "# Importing cross validation function from sklearn\n",
    "from sklearn.model_selection import cross_val_score\n",
    "\n",
    "# Running 10-Fold Cross validation on a given algorithm\n",
    "# Passing full data X and y because the K-fold will split the data and automatically choose train/test\n",
    "Accuracy_Values=cross_val_score(KNN, X , y, cv=10, scoring='f1_weighted')\n",
    "print('\\nAccuracy values for 10-fold Cross Validation:\\n',Accuracy_Values)\n",
    "print('\\nFinal Average Accuracy of the model:', round(Accuracy_Values.mean(),2))\n",
    "\n",
    "\n",
    "# Plotting the feature importance for Top 10 most important columns\n",
    "# There is no built-in method to get feature importance in KNN\n",
    "T2=time.time()\n",
    "print(\"Time taken:\", T2-T1)\n",
    "\n",
    "# permutation feature importance with knn for classification\n",
    "from sklearn.datasets import make_classification\n",
    "from sklearn.neighbors import KNeighborsClassifier\n",
    "from sklearn.inspection import permutation_importance\n",
    "from matplotlib import pyplot\n",
    "\n",
    "# perform permutation importance\n",
    "results = permutation_importance(KNN, X, y, scoring='accuracy')\n",
    "# get importance\n",
    "importance = results.importances_mean\n",
    "# summarize feature importance\n",
    "for i,v in enumerate(importance):\n",
    "    print('Feature: %0d, Score: %.5f' % (i,v))\n",
    "# plot feature importance\n",
    "pyplot.bar([x for x in range(len(importance))], importance)\n",
    "pyplot.show()"
   ]
  },
  {
   "cell_type": "markdown",
   "id": "01d2355f",
   "metadata": {},
   "source": [
    "## 15.7. SVM"
   ]
  },
  {
   "cell_type": "code",
   "execution_count": 99,
   "id": "ce0c5bea",
   "metadata": {},
   "outputs": [
    {
     "name": "stdout",
     "output_type": "stream",
     "text": [
      "SVC(C=10, gamma=0.01)\n",
      "              precision    recall  f1-score   support\n",
      "\n",
      "           0       0.85      0.78      0.81       421\n",
      "           1       0.68      0.76      0.72       251\n",
      "\n",
      "    accuracy                           0.78       672\n",
      "   macro avg       0.76      0.77      0.77       672\n",
      "weighted avg       0.78      0.78      0.78       672\n",
      "\n",
      "[[330  91]\n",
      " [ 60 191]]\n",
      "Accuracy of the model on Testing Sample Data: 0.78\n",
      "\n",
      "Accuracy values for 10-fold Cross Validation:\n",
      " [0.80165481 0.78042082 0.76883098 0.8356685  0.8396378  0.77910952\n",
      " 0.72666758 0.74523889 0.80935237 0.75104875]\n",
      "\n",
      "Final Average Accuracy of the model: 0.78\n",
      "Time taken: 2.3239800930023193\n"
     ]
    }
   ],
   "source": [
    "import time\n",
    "T1=time.time()\n",
    "# Support Vector Machines(SVM)\n",
    "from sklearn import svm\n",
    "clf = svm.SVC(C=10, kernel='rbf', gamma=0.01)\n",
    "\n",
    "# Printing all the parameters of SVM\n",
    "print(clf)\n",
    "\n",
    "# Creating the model on Training Data\n",
    "SVM=clf.fit(X_train,y_train)\n",
    "prediction=SVM.predict(X_test)\n",
    "\n",
    "# Measuring accuracy on Testing Data\n",
    "from sklearn import metrics\n",
    "print(metrics.classification_report(y_test, prediction))\n",
    "print(metrics.confusion_matrix(y_test, prediction))\n",
    "\n",
    "# Printing the Overall Accuracy of the model\n",
    "F1_Score=metrics.f1_score(y_test, prediction, average='weighted')\n",
    "print('Accuracy of the model on Testing Sample Data:', round(F1_Score,2))\n",
    "\n",
    "# Importing cross validation function from sklearn\n",
    "from sklearn.model_selection import cross_val_score\n",
    "\n",
    "# Running 10-Fold Cross validation on a given algorithm\n",
    "# Passing full data X and y because the K-fold will split the data and automatically choose train/test\n",
    "Accuracy_Values=cross_val_score(SVM, X , y, cv=10, scoring='f1_weighted')\n",
    "print('\\nAccuracy values for 10-fold Cross Validation:\\n',Accuracy_Values)\n",
    "print('\\nFinal Average Accuracy of the model:', round(Accuracy_Values.mean(),2))\n",
    "\n",
    "# Plotting the feature importance for Top 10 most important columns\n",
    "# The built in attribute SVM.coef_ works only for linear kernel\n",
    "\n",
    "%matplotlib inline\n",
    "#feature_importances = pd.Series(SVM.coef_[0], index=Predictors)\n",
    "#feature_importances.nlargest(10).plot(kind='barh')\n",
    "T2=time.time()\n",
    "print(\"Time taken:\", T2-T1)"
   ]
  },
  {
   "cell_type": "markdown",
   "id": "8a9fc696",
   "metadata": {},
   "source": [
    "## 15.8. Naive Bayes"
   ]
  },
  {
   "cell_type": "code",
   "execution_count": 100,
   "id": "cca74cc1",
   "metadata": {},
   "outputs": [
    {
     "name": "stdout",
     "output_type": "stream",
     "text": [
      "GaussianNB()\n",
      "              precision    recall  f1-score   support\n",
      "\n",
      "           0       0.81      0.77      0.79       421\n",
      "           1       0.65      0.71      0.68       251\n",
      "\n",
      "    accuracy                           0.75       672\n",
      "   macro avg       0.73      0.74      0.73       672\n",
      "weighted avg       0.75      0.75      0.75       672\n",
      "\n",
      "[[325  96]\n",
      " [ 74 177]]\n",
      "Accuracy of the model on Testing Sample Data: 0.75\n",
      "\n",
      "Accuracy values for 10-fold Cross Validation:\n",
      " [0.74270073 0.79511215 0.75614839 0.75706526 0.78405801 0.7080446\n",
      " 0.6785344  0.73690186 0.78618374 0.71014612]\n",
      "\n",
      "Final Average Accuracy of the model: 0.75\n"
     ]
    }
   ],
   "source": [
    "# Naive Bays\n",
    "from sklearn.naive_bayes import GaussianNB, MultinomialNB\n",
    "\n",
    "# GaussianNB is used in Binomial Classification\n",
    "# MultinomialNB is used in multi-class classification\n",
    "clf = GaussianNB()\n",
    "#clf = MultinomialNB()\n",
    "\n",
    "# Printing all the parameters of Naive Bayes\n",
    "print(clf)\n",
    "\n",
    "NB=clf.fit(X_train,y_train)\n",
    "prediction=NB.predict(X_test)\n",
    "\n",
    "# Measuring accuracy on Testing Data\n",
    "from sklearn import metrics\n",
    "print(metrics.classification_report(y_test, prediction))\n",
    "print(metrics.confusion_matrix(y_test, prediction))\n",
    "\n",
    "# Printing the Overall Accuracy of the model\n",
    "F1_Score=metrics.f1_score(y_test, prediction, average='weighted')\n",
    "print('Accuracy of the model on Testing Sample Data:', round(F1_Score,2))\n",
    "\n",
    "# Importing cross validation function from sklearn\n",
    "from sklearn.model_selection import cross_val_score\n",
    "\n",
    "# Running 10-Fold Cross validation on a given algorithm\n",
    "# Passing full data X and y because the K-fold will split the data and automatically choose train/test\n",
    "Accuracy_Values=cross_val_score(NB, X , y, cv=10, scoring='f1_weighted')\n",
    "print('\\nAccuracy values for 10-fold Cross Validation:\\n',Accuracy_Values)\n",
    "print('\\nFinal Average Accuracy of the model:', round(Accuracy_Values.mean(),2))"
   ]
  },
  {
   "cell_type": "markdown",
   "id": "bef3b04b",
   "metadata": {},
   "source": [
    "#### Based on the above trials we select that algorithm which produces the best average accuracy. In this case, multiple algorithms have produced similar kind of average accuracy. Hence, we can choose any one of them.\n",
    "\n",
    "I am choosing <b>Decision Trees</b> as the final model since it is very fast on this data."
   ]
  },
  {
   "cell_type": "code",
   "execution_count": null,
   "id": "c9ca92ab",
   "metadata": {},
   "outputs": [],
   "source": []
  }
 ],
 "metadata": {
  "kernelspec": {
   "display_name": "Python 3 (ipykernel)",
   "language": "python",
   "name": "python3"
  },
  "language_info": {
   "codemirror_mode": {
    "name": "ipython",
    "version": 3
   },
   "file_extension": ".py",
   "mimetype": "text/x-python",
   "name": "python",
   "nbconvert_exporter": "python",
   "pygments_lexer": "ipython3",
   "version": "3.9.7"
  }
 },
 "nbformat": 4,
 "nbformat_minor": 5
}
